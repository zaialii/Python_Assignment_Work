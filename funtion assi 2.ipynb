{
 "cells": [
  {
   "cell_type": "markdown",
   "id": "28dbc4fa-cb30-401a-a27d-44cea9f1b28d",
   "metadata": {},
   "source": [
    "### Task1:\n",
    "You need to write a function in python that return all such numbers which are\n",
    "divisible by 7 but are not a multiple of 5, between 2000 and 3200 (both included).\n",
    "Return the obtained numbers in a comma-separated sequence on a single line."
   ]
  },
  {
   "cell_type": "code",
   "execution_count": 4,
   "id": "7a3c1935-f2c5-4091-ae03-84011d5a6562",
   "metadata": {},
   "outputs": [
    {
     "name": "stdout",
     "output_type": "stream",
     "text": [
      "2002,2009,2016,2023,2037,2044,2051,2058,2072,2079,2086,2093,2107,2114,2121,2128,2142,2149,2156,2163,2177,2184,2191,2198,2212,2219,2226,2233,2247,2254,2261,2268,2282,2289,2296,2303,2317,2324,2331,2338,2352,2359,2366,2373,2387,2394,2401,2408,2422,2429,2436,2443,2457,2464,2471,2478,2492,2499,2506,2513,2527,2534,2541,2548,2562,2569,2576,2583,2597,2604,2611,2618,2632,2639,2646,2653,2667,2674,2681,2688,2702,2709,2716,2723,2737,2744,2751,2758,2772,2779,2786,2793,2807,2814,2821,2828,2842,2849,2856,2863,2877,2884,2891,2898,2912,2919,2926,2933,2947,2954,2961,2968,2982,2989,2996,3003,3017,3024,3031,3038,3052,3059,3066,3073,3087,3094,3101,3108,3122,3129,3136,3143,3157,3164,3171,3178,3192,3199\n"
     ]
    }
   ],
   "source": [
    "def find_numbers():\n",
    "    result = []  \n",
    "    for i in range(2000, 3201):  \n",
    "        if i % 7 == 0 and i % 5 != 0:  \n",
    "            result.append(str(i))  \n",
    "    return \",\".join(result)  \n",
    "\n",
    "print(find_numbers()) "
   ]
  },
  {
   "cell_type": "markdown",
   "id": "53194903-8798-4e77-9dbd-9f8aa09632fa",
   "metadata": {},
   "source": [
    "### Task2:\n",
    "You need code a function that calculates and returns the value according to the\n",
    "given formula:\n",
    "P = Square root of [(2 * A * B)/C]\n",
    "Following are the fixed values of A and B:\n",
    "A is 50. B is 30.\n",
    "The values of the literal C should be taken as console input to your program in a\n",
    "comma-separated sequence.\n",
    "Example\n",
    "Let us assume the following comma separated input sequence is given to the\n",
    "program:\n",
    "100,150,180\n",
    "The output of the program should be:\n",
    "18,22,24"
   ]
  },
  {
   "cell_type": "code",
   "execution_count": 11,
   "id": "067a87df-088f-4412-bbd2-377857acd47d",
   "metadata": {},
   "outputs": [
    {
     "name": "stdin",
     "output_type": "stream",
     "text": [
      "Enter C values (comma-separated):  4,4\n"
     ]
    },
    {
     "name": "stdout",
     "output_type": "stream",
     "text": [
      "27,27\n"
     ]
    }
   ],
   "source": [
    "import math  \n",
    "\n",
    "def calculate_p(c_values):\n",
    "    A = 50\n",
    "    B = 30\n",
    "    result = []\n",
    "    \n",
    "    for C in c_values: \n",
    "        P = math.sqrt((2 * A * B) / C)  \n",
    "        result.append(str(int(P)))  \n",
    "    \n",
    "    return \",\".join(result)  \n",
    "\n",
    "input_values = input(\"Enter C values (comma-separated): \")\n",
    "\n",
    "c_list = list(map(int, input_values.split(\",\")))\n",
    "\n",
    "print(calculate_p(c_list))\n"
   ]
  },
  {
   "cell_type": "markdown",
   "id": "1d4d31e0-1cf2-484c-84d0-81ae720abb51",
   "metadata": {},
   "source": [
    "### Task3:\n",
    "You need to write a function that takes a comma separated sequence of words as\n",
    "input and prints the words in a comma-separated sequence after sorting them\n",
    "alphabetically.\n",
    "Suppose the following input is supplied to the program:\n",
    "without,hello,bag,world\n",
    "Then, the output should be:\n",
    "bag,hello,without,world"
   ]
  },
  {
   "cell_type": "code",
   "execution_count": 1,
   "id": "79d05dae-6130-42e4-90c0-7108f3b6f55a",
   "metadata": {},
   "outputs": [
    {
     "name": "stdin",
     "output_type": "stream",
     "text": [
      "Enter words (comma-separated):  without,hello,bag,world\n"
     ]
    },
    {
     "name": "stdout",
     "output_type": "stream",
     "text": [
      "bag,hello,without,world\n"
     ]
    }
   ],
   "source": [
    "def sort_words():\n",
    "    words = input(\"Enter words (comma-separated): \")\n",
    "    word_list = words.split(\",\")\n",
    "    word_list.sort()    \n",
    "    result = \",\".join(word_list)\n",
    "    print(result)\n",
    "    \n",
    "sort_words()\n"
   ]
  },
  {
   "cell_type": "markdown",
   "id": "9ab4a6b2-09d9-43db-916c-c93672ab7d19",
   "metadata": {},
   "source": [
    "### Task4:\n",
    "You need to write a program that takes sequence of lines as input and prints the\n",
    "lines after making all characters in the sentence capitalized.\n",
    "Suppose the following input is supplied to the program:\n",
    "Hello world\n",
    "Practice makes perfect\n",
    "Then, the output should be:"
   ]
  },
  {
   "cell_type": "code",
   "execution_count": 3,
   "id": "4d31341a-5e49-4f68-9003-904172798aa1",
   "metadata": {},
   "outputs": [
    {
     "name": "stdin",
     "output_type": "stream",
     "text": [
      "Enter a line (or press Enter to stop):  Hello world practice makes perfect\n",
      "Enter a line (or press Enter to stop):  Hello world practice makes perfect\n",
      "Enter a line (or press Enter to stop):  \n"
     ]
    },
    {
     "name": "stdout",
     "output_type": "stream",
     "text": [
      "HELLO WORLD PRACTICE MAKES PERFECT\n",
      "HELLO WORLD PRACTICE MAKES PERFECT\n"
     ]
    }
   ],
   "source": [
    "def capitalize_lines():\n",
    "    lines = []  \n",
    "    while True:\n",
    "        line = input(\"Enter a line (or press Enter to stop): \")\n",
    "        if line == \"\": \n",
    "            break\n",
    "        lines.append(line.upper()) \n",
    "    for l in lines:\n",
    "        print(l)\n",
    "capitalize_lines()\n",
    "\n"
   ]
  },
  {
   "cell_type": "markdown",
   "id": "ec401677-a820-488c-8fe4-e75421448428",
   "metadata": {},
   "source": [
    "### Task5:\n",
    "You need to write a function that counts the number of vowels in a given\n",
    "sentence as input from console.\n",
    "Suppose the following input is supplied to the program:\n",
    "Hello world\n",
    "Practice makes perfect\n",
    "Then, the output should be:\n",
    "a appeared 2 times\n",
    "e appeared 5 times\n",
    "i appeared 1 time\n",
    "o appeared 2 times\n",
    "u appeared 0 time\n",
    "PRACTICE MAKES PERFECT"
   ]
  },
  {
   "cell_type": "code",
   "execution_count": 5,
   "id": "3249cdbd-4a35-457b-8532-f614edd75c9a",
   "metadata": {},
   "outputs": [
    {
     "name": "stdin",
     "output_type": "stream",
     "text": [
      "Enter a sentence:  Hello wolrd Practice makes perfect\n"
     ]
    },
    {
     "name": "stdout",
     "output_type": "stream",
     "text": [
      "a appeared 2 times\n",
      "e appeared 5 times\n",
      "i appeared 1 time\n",
      "o appeared 2 times\n",
      "u appeared 0 times\n"
     ]
    }
   ],
   "source": [
    "def count_vowels():\n",
    "    sentence = input(\"Enter a sentence: \").lower()\n",
    "    vowels = \"aeiou\"\n",
    "    vowel_count = {v: 0 for v in vowels}\n",
    "    for char in sentence:\n",
    "        if char in vowels:\n",
    "            vowel_count[char] += 1\n",
    "    for v, count in vowel_count.items():\n",
    "        print(f\"{v} appeared {count} time{'s' if count != 1 else ''}\")\n",
    "count_vowels()\n"
   ]
  },
  {
   "cell_type": "markdown",
   "id": "9a329483-9193-43af-9083-f82a107725a2",
   "metadata": {},
   "source": [
    "### Task6:\n",
    "You need write a function that traces and makes a list of all such numbers\n",
    "from1000 to 3000 in which all the digits are even numbers."
   ]
  },
  {
   "cell_type": "code",
   "execution_count": 7,
   "id": "677a1ede-340e-4dd8-b7e0-c614ef346fa5",
   "metadata": {},
   "outputs": [
    {
     "name": "stdout",
     "output_type": "stream",
     "text": [
      "2000,2002,2004,2006,2008,2020,2022,2024,2026,2028,2040,2042,2044,2046,2048,2060,2062,2064,2066,2068,2080,2082,2084,2086,2088,2200,2202,2204,2206,2208,2220,2222,2224,2226,2228,2240,2242,2244,2246,2248,2260,2262,2264,2266,2268,2280,2282,2284,2286,2288,2400,2402,2404,2406,2408,2420,2422,2424,2426,2428,2440,2442,2444,2446,2448,2460,2462,2464,2466,2468,2480,2482,2484,2486,2488,2600,2602,2604,2606,2608,2620,2622,2624,2626,2628,2640,2642,2644,2646,2648,2660,2662,2664,2666,2668,2680,2682,2684,2686,2688,2800,2802,2804,2806,2808,2820,2822,2824,2826,2828,2840,2842,2844,2846,2848,2860,2862,2864,2866,2868,2880,2882,2884,2886,2888\n"
     ]
    }
   ],
   "source": [
    "def find_even_digit_numbers():\n",
    "    even_numbers = []\n",
    "    for number in range(1000, 3001):\n",
    "        if all(int(d) % 2 == 0 for d in str(number)):\n",
    "            even_numbers.append(str(number))\n",
    "    print(\",\".join(even_numbers))\n",
    "find_even_digit_numbers()\n"
   ]
  },
  {
   "cell_type": "markdown",
   "id": "acd6b8f5-9a66-4ea7-834c-f689d34d9529",
   "metadata": {},
   "source": [
    "### Task7:\n",
    "You need to write a code which accepts a sequence of comma separated 4 digit\n",
    "binary numbers as its input and then check whether they are divisible by 5 or not.\n",
    "The numbers that are divisible by 5 are to be printed in a comma separated\n",
    "sequence.\n",
    "Example:\n",
    "0100,0011,1010,1001\n",
    "Then the output should be:\n",
    "1010"
   ]
  },
  {
   "cell_type": "code",
   "execution_count": 9,
   "id": "1358b881-b9a1-4b3c-b20b-3ba4bee07f43",
   "metadata": {},
   "outputs": [
    {
     "name": "stdin",
     "output_type": "stream",
     "text": [
      "Enter 4-digit binary numbers (comma-separated):  0100,0011,1010,1001\n"
     ]
    },
    {
     "name": "stdout",
     "output_type": "stream",
     "text": [
      "1010\n"
     ]
    }
   ],
   "source": [
    "def divisible_by_5():\n",
    "    binary_numbers = input(\"Enter 4-digit binary numbers (comma-separated): \").split(',')\n",
    "    divisible = []\n",
    "    for b in binary_numbers:\n",
    "        if int(b, 2) % 5 == 0: \n",
    "            divisible.append(b)\n",
    "    print(\",\".join(divisible))\n",
    "divisible_by_5()\n"
   ]
  },
  {
   "cell_type": "markdown",
   "id": "88cb9dc7-d6f3-40cc-92ed-a2a02a106f92",
   "metadata": {},
   "source": [
    "### Task8:\n",
    "Write a program that accepts a sentence and calculate the number of letters and\n",
    "digits.\n",
    "Suppose the following input is supplied to the program:\n",
    "hello world! 123\n",
    "Then, the output should be:\n",
    "LETTERS 10\n",
    "DIGITS 3"
   ]
  },
  {
   "cell_type": "code",
   "execution_count": 11,
   "id": "8ae815c0-e952-4a16-9969-311f359850c4",
   "metadata": {},
   "outputs": [
    {
     "name": "stdin",
     "output_type": "stream",
     "text": [
      "Enter a sentence:  hello world! 123\n"
     ]
    },
    {
     "name": "stdout",
     "output_type": "stream",
     "text": [
      "LETTERS 10\n",
      "DIGITS 3\n"
     ]
    }
   ],
   "source": [
    "def count_letters_digits():\n",
    "    sentence = input(\"Enter a sentence: \") \n",
    "    \n",
    "    letters = 0  \n",
    "    digits = 0 \n",
    "    \n",
    "    # Loop through each character in the sentence\n",
    "    for char in sentence:\n",
    "        if char.isalpha():  # Check if the character is a letter\n",
    "            letters += 1\n",
    "        elif char.isdigit():  # Check if the character is a digit\n",
    "            digits += 1\n",
    "    \n",
    "    # Print the results\n",
    "    print(\"LETTERS\", letters)\n",
    "    print(\"DIGITS\", digits)\n",
    "\n",
    "# Call the function\n",
    "count_letters_digits()\n"
   ]
  },
  {
   "cell_type": "code",
   "execution_count": null,
   "id": "f304e8d1-e531-46a7-8703-c6c367d5eb03",
   "metadata": {},
   "outputs": [],
   "source": []
  }
 ],
 "metadata": {
  "kernelspec": {
   "display_name": "Python 3 (ipykernel)",
   "language": "python",
   "name": "python3"
  },
  "language_info": {
   "codemirror_mode": {
    "name": "ipython",
    "version": 3
   },
   "file_extension": ".py",
   "mimetype": "text/x-python",
   "name": "python",
   "nbconvert_exporter": "python",
   "pygments_lexer": "ipython3",
   "version": "3.12.7"
  }
 },
 "nbformat": 4,
 "nbformat_minor": 5
}
