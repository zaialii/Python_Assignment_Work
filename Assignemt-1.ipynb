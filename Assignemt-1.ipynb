{
 "cells": [
  {
   "cell_type": "markdown",
   "metadata": {
    "id": "CUdxU51J52Jc"
   },
   "source": [
    "# Topic: print()"
   ]
  },
  {
   "cell_type": "markdown",
   "metadata": {
    "id": "O4XtVMeN52Ji"
   },
   "source": [
    "1) Using the python print function print any string value, integer value, boolean value, float value in single print command"
   ]
  },
  {
   "cell_type": "code",
   "execution_count": 1,
   "metadata": {},
   "outputs": [
    {
     "name": "stdout",
     "output_type": "stream",
     "text": [
      "Ali, 55, True, 23.55\n"
     ]
    }
   ],
   "source": [
    "print(\"Ali, 55, True, 23.55\")"
   ]
  },
  {
   "cell_type": "markdown",
   "metadata": {
    "id": "iNinlTd052Jr"
   },
   "source": [
    "2) Using the python print function print hyphon(-) separated any string value, integer value, boolean value, float value in single print command"
   ]
  },
  {
   "cell_type": "code",
   "execution_count": 4,
   "metadata": {},
   "outputs": [
    {
     "name": "stdout",
     "output_type": "stream",
     "text": [
      "Ali-55-True-24.55\n"
     ]
    }
   ],
   "source": [
    "print(\"Ali\", 55, True, 24.55, sep= \"-\")"
   ]
  },
  {
   "cell_type": "markdown",
   "metadata": {
    "id": "4fNVS99O52Jt"
   },
   "source": [
    "3) Using the python print function print any string value, integer value, boolean value, float value in separate print command.\n",
    "But every value must be space separated and in single line"
   ]
  },
  {
   "cell_type": "code",
   "execution_count": 6,
   "metadata": {},
   "outputs": [
    {
     "name": "stdout",
     "output_type": "stream",
     "text": [
      "Ali 55 False 23.55 "
     ]
    }
   ],
   "source": [
    "print(\"Ali\", end=\" \")\n",
    "print(55 , end=\" \")\n",
    "print(False, end=\" \")\n",
    "print(23.55, end=\" \")"
   ]
  },
  {
   "cell_type": "markdown",
   "metadata": {
    "id": "akEUFstT52Jv"
   },
   "source": [
    "4) Can a python print function take no value to print???\n"
   ]
  },
  {
   "cell_type": "markdown",
   "metadata": {
    "scrolled": true
   },
   "source": [
    "no"
   ]
  },
  {
   "cell_type": "markdown",
   "metadata": {
    "id": "vFPOFKW_52Jx"
   },
   "source": [
    "# TOPIC :Variables in Python Operators"
   ]
  },
  {
   "cell_type": "markdown",
   "metadata": {
    "id": "AzBzVODl52Jy"
   },
   "source": [
    "5) One of my friends name is Mr. Ahmed. He is 30 years old.  He is a lawer by profession. He has done his bachelors in law in the year 2005. He is working with a reputable law firm 'The Himalya Associates' in Karachi since 2015.\n",
    "He is a handsome lawer with height of 5.10 feets and weight 70600g. His monthly income is Rs. 200k PKR.\n",
    "\n",
    "Note: Create variables from above text and also assign values from the text.  "
   ]
  },
  {
   "cell_type": "code",
   "execution_count": 11,
   "metadata": {},
   "outputs": [],
   "source": [
    "name =\"Mr Ahmed\"\n",
    "age=30\n",
    "education=\"bachelors\"\n",
    "graduate = 2005\n",
    "profession=\"Lawyer\"\n",
    "Company = \"The Himaliya Associates\"\n",
    "joining = 2015\n",
    "height=5.10\n",
    "weight=70600\n",
    "income=200000"
   ]
  },
  {
   "cell_type": "markdown",
   "metadata": {
    "id": "Uaf--v5S52J0"
   },
   "source": [
    "6)How many years has been to Mr. Ahmed after his bachelors degree? Create a variable that hold current year value and then subtract it from his passout year"
   ]
  },
  {
   "cell_type": "code",
   "execution_count": 13,
   "metadata": {},
   "outputs": [
    {
     "data": {
      "text/plain": [
       "19"
      ]
     },
     "execution_count": 13,
     "metadata": {},
     "output_type": "execute_result"
    }
   ],
   "source": [
    "curr_year = 2024\n",
    "curr_year-graduate"
   ]
  },
  {
   "cell_type": "markdown",
   "metadata": {
    "id": "SAQtVyvD52J1"
   },
   "source": [
    "7) How many years has Mr. Ahmed been working with law firm 'The Himalya Associates'. Create necesary variables and print the correct number of years in working in the firm"
   ]
  },
  {
   "cell_type": "code",
   "execution_count": 15,
   "metadata": {},
   "outputs": [
    {
     "name": "stdout",
     "output_type": "stream",
     "text": [
      "9\n"
     ]
    }
   ],
   "source": [
    "working = curr_year-joining\n",
    "print(working)"
   ]
  },
  {
   "cell_type": "markdown",
   "metadata": {
    "id": "Gnk1kIUj52J3"
   },
   "source": [
    "8)Convert the monthly income of Mr. Ahmed in dollars.  Create necesary variables and print the income in dollars."
   ]
  },
  {
   "cell_type": "code",
   "execution_count": 17,
   "metadata": {},
   "outputs": [
    {
     "name": "stdout",
     "output_type": "stream",
     "text": [
      "709.2198581560284\n"
     ]
    }
   ],
   "source": [
    "income_dollars = income/282\n",
    "print(income_dollars)"
   ]
  },
  {
   "cell_type": "markdown",
   "metadata": {
    "id": "Adx4oblF52J4"
   },
   "source": [
    "9) Check if the income in dollars is a float or integer value. if it is float, re-write the code so that income gets converted in integer. print the income in integer type value"
   ]
  },
  {
   "cell_type": "code",
   "execution_count": 22,
   "metadata": {},
   "outputs": [
    {
     "name": "stdout",
     "output_type": "stream",
     "text": [
      "709\n"
     ]
    }
   ],
   "source": [
    "income_in_dollars = int(income_dollars)\n",
    "print((income_in_dollars))"
   ]
  },
  {
   "cell_type": "raw",
   "metadata": {
    "id": "NcYepWgZ52J5"
   },
   "source": [
    "10) Print the type of Mr. Ahmed's weight. Convert the weight of Mr. Ahmed in kg so that weight must be a integer value."
   ]
  },
  {
   "cell_type": "code",
   "execution_count": 24,
   "metadata": {},
   "outputs": [
    {
     "name": "stdout",
     "output_type": "stream",
     "text": [
      "70\n"
     ]
    }
   ],
   "source": [
    "weight_kg = int(weight/1000)\n",
    "print(weight_kg)"
   ]
  },
  {
   "cell_type": "code",
   "execution_count": 26,
   "metadata": {
    "id": "05FU1XHw52J7"
   },
   "outputs": [
    {
     "name": "stdout",
     "output_type": "stream",
     "text": [
      "1994\n"
     ]
    }
   ],
   "source": [
    "#11) print the year of birth of Mr. Ahmed.\n",
    "print(1994)"
   ]
  },
  {
   "cell_type": "markdown",
   "metadata": {
    "id": "eWySSgh552J8"
   },
   "source": [
    "12) Can Rs. 100 be divided equally among 6 students?\n",
    "HINT: % operator (modulo)"
   ]
  },
  {
   "cell_type": "code",
   "execution_count": 28,
   "metadata": {
    "id": "RYc0Ks7g52J-",
    "outputId": "0e2425ca-fbed-4c24-b659-e52ef2d0674e"
   },
   "outputs": [
    {
     "data": {
      "text/plain": [
       "4"
      ]
     },
     "execution_count": 28,
     "metadata": {},
     "output_type": "execute_result"
    }
   ],
   "source": [
    "100%6\n",
    "# 10 is completely divisible by2\n",
    "# 10 is multiple of 2\n",
    "# 2 is a factor of 10\n",
    "# 10 comes in table of 2"
   ]
  },
  {
   "cell_type": "raw",
   "metadata": {
    "id": "S2nqgbLV52J_"
   },
   "source": [
    "                       Saylani Mass IT \n",
    "             Name   : Nasir Hussain\n",
    "             Course : AI and DS\n",
    "             Days   : Tuesday and Thursday\n",
    "             ID     : AI - 332909\n",
    "             \n",
    "             "
   ]
  },
  {
   "cell_type": "code",
   "execution_count": 30,
   "metadata": {
    "id": "X3ncSwJt52KA"
   },
   "outputs": [
    {
     "name": "stdout",
     "output_type": "stream",
     "text": [
      "                             Saylani Mass IT\n",
      "                 Name    : Nasir Hussain\n",
      "                 Course   : AI and DS\n",
      "                 Days    : Tuesday and Thursday\n",
      "                 ID       : AI - 333909\n"
     ]
    }
   ],
   "source": [
    "print(\"                           \",\" Saylani Mass IT\")\n",
    "print(\"                \",\"Name    : Nasir Hussain\")\n",
    "print(\"                \",\"Course   : AI and DS\")\n",
    "print(\"                \", \"Days    : Tuesday and Thursday\")\n",
    "print(\"                \",\"ID       : AI - 333909\")"
   ]
  },
  {
   "cell_type": "code",
   "execution_count": null,
   "metadata": {},
   "outputs": [],
   "source": []
  }
 ],
 "metadata": {
  "colab": {
   "provenance": []
  },
  "kernelspec": {
   "display_name": "Python 3 (ipykernel)",
   "language": "python",
   "name": "python3"
  },
  "language_info": {
   "codemirror_mode": {
    "name": "ipython",
    "version": 3
   },
   "file_extension": ".py",
   "mimetype": "text/x-python",
   "name": "python",
   "nbconvert_exporter": "python",
   "pygments_lexer": "ipython3",
   "version": "3.12.7"
  }
 },
 "nbformat": 4,
 "nbformat_minor": 4
}
