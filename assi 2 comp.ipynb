{
 "cells": [
  {
   "cell_type": "markdown",
   "id": "637ef3d2",
   "metadata": {},
   "source": [
    "1) Area of a Rectangle:\n",
    "\n",
    "Write a Python program to calculate the area of a rectangle."
   ]
  },
  {
   "cell_type": "code",
   "execution_count": 2,
   "id": "7346d63e",
   "metadata": {},
   "outputs": [
    {
     "name": "stdin",
     "output_type": "stream",
     "text": [
      "Enter the length of the rectangle:  2\n",
      "Enter the width of the rectangle:  3\n"
     ]
    },
    {
     "name": "stdout",
     "output_type": "stream",
     "text": [
      "The area of the rectangle is 6.0\n"
     ]
    }
   ],
   "source": [
    "length = float(input(\"Enter the length of the rectangle: \"))\n",
    "width = float(input(\"Enter the width of the rectangle: \"))\n",
    "area = length * width\n",
    "print(f\"The area of the rectangle is {area}\")"
   ]
  },
  {
   "cell_type": "markdown",
   "id": "32a6c481",
   "metadata": {},
   "source": [
    "2) Circumference of a Circle:\n",
    "\n",
    "Write a Python program to calculate the circumference of a circle."
   ]
  },
  {
   "cell_type": "code",
   "execution_count": 4,
   "id": "965336db",
   "metadata": {},
   "outputs": [
    {
     "name": "stdin",
     "output_type": "stream",
     "text": [
      "Enter the radius of the circle:  4\n"
     ]
    },
    {
     "name": "stdout",
     "output_type": "stream",
     "text": [
      "The circumference of the circle is 25.132741228718345\n"
     ]
    }
   ],
   "source": [
    "import math\n",
    "radius = float(input(\"Enter the radius of the circle: \"))\n",
    "circumference = 2 * math.pi * radius\n",
    "print(f\"The circumference of the circle is {circumference}\")\n"
   ]
  },
  {
   "cell_type": "markdown",
   "id": "9efc3e26",
   "metadata": {},
   "source": [
    "3) Simple Interest:\n",
    "\n",
    "Write a Python program to calculate the simple interest."
   ]
  },
  {
   "cell_type": "code",
   "execution_count": 6,
   "id": "efc9d7cf",
   "metadata": {},
   "outputs": [
    {
     "name": "stdin",
     "output_type": "stream",
     "text": [
      "Enter the principal amount:  2000\n",
      "Enter the interest rate:  12\n",
      "Enter the time (in years):  2\n"
     ]
    },
    {
     "name": "stdout",
     "output_type": "stream",
     "text": [
      "The simple interest is 480.0\n"
     ]
    }
   ],
   "source": [
    "principal = float(input(\"Enter the principal amount: \"))\n",
    "rate = float(input(\"Enter the interest rate: \"))\n",
    "time = float(input(\"Enter the time (in years): \"))\n",
    "simple_interest = (principal * rate * time) / 100\n",
    "print(f\"The simple interest is {simple_interest}\")\n"
   ]
  },
  {
   "cell_type": "markdown",
   "id": "3719bb45",
   "metadata": {},
   "source": [
    "4) Speed of an Object:\n",
    "\n",
    "Write a Python program to calculate the speed of an object."
   ]
  },
  {
   "cell_type": "code",
   "execution_count": 8,
   "id": "27465adf",
   "metadata": {},
   "outputs": [
    {
     "name": "stdin",
     "output_type": "stream",
     "text": [
      "Enter the distance covered:  40\n",
      "Enter the time taken:  20\n"
     ]
    },
    {
     "name": "stdout",
     "output_type": "stream",
     "text": [
      "The speed of the object is 2.0\n"
     ]
    }
   ],
   "source": [
    "distance = float(input(\"Enter the distance covered: \"))\n",
    "time_taken = float(input(\"Enter the time taken: \"))\n",
    "speed = distance / time_taken\n",
    "print(f\"The speed of the object is {speed}\")"
   ]
  },
  {
   "cell_type": "markdown",
   "id": "0a4239b1",
   "metadata": {},
   "source": [
    "5) BMI Calculator:\n",
    "\n",
    "Write a Python program to calculate the Body Mass Index (BMI)."
   ]
  },
  {
   "cell_type": "code",
   "execution_count": 10,
   "id": "7ee504e3",
   "metadata": {},
   "outputs": [
    {
     "name": "stdin",
     "output_type": "stream",
     "text": [
      "Enter weight in kg:  60\n",
      "Enter height in meters:  7\n"
     ]
    },
    {
     "name": "stdout",
     "output_type": "stream",
     "text": [
      "The Body Mass Index (BMI) is 1.2244897959183674\n"
     ]
    }
   ],
   "source": [
    "weight = float(input(\"Enter weight in kg: \"))\n",
    "height = float(input(\"Enter height in meters: \"))\n",
    "BMI = weight / (height ** 2)\n",
    "print(f\"The Body Mass Index (BMI) is {BMI}\")\n"
   ]
  },
  {
   "cell_type": "markdown",
   "id": "697f0439",
   "metadata": {},
   "source": [
    "6) Force (Newton's Second Law):\n",
    "\n",
    "Write a Python program to calculate the force on an object."
   ]
  },
  {
   "cell_type": "code",
   "execution_count": 12,
   "id": "14c4f687",
   "metadata": {},
   "outputs": [
    {
     "name": "stdin",
     "output_type": "stream",
     "text": [
      "Enter mass in kg:  20\n",
      "Enter acceleration in m/s^2:  40\n"
     ]
    },
    {
     "name": "stdout",
     "output_type": "stream",
     "text": [
      "The force is 800.0\n"
     ]
    }
   ],
   "source": [
    "mass = float(input(\"Enter mass in kg: \"))\n",
    "acceleration = float(input(\"Enter acceleration in m/s^2: \"))\n",
    "force = mass * acceleration\n",
    "print(f\"The force is {force}\")"
   ]
  },
  {
   "cell_type": "markdown",
   "id": "c2ae91f3",
   "metadata": {},
   "source": [
    "7) Compound Interest:\n",
    "\n",
    "Write a Python program to calculate compound interest."
   ]
  },
  {
   "cell_type": "code",
   "execution_count": 14,
   "id": "e7c4919c",
   "metadata": {},
   "outputs": [
    {
     "name": "stdin",
     "output_type": "stream",
     "text": [
      "Enter the principal amount:  4000\n",
      "Enter the annual interest rate (as a decimal):  20\n",
      "Enter the number of times interest applied per year:  2\n",
      "Enter the time in years:  3\n"
     ]
    },
    {
     "name": "stdout",
     "output_type": "stream",
     "text": [
      "The compound interest is 7086244000.0\n"
     ]
    }
   ],
   "source": [
    "P = float(input(\"Enter the principal amount: \"))\n",
    "r = float(input(\"Enter the annual interest rate (as a decimal): \"))\n",
    "n = int(input(\"Enter the number of times interest applied per year: \"))\n",
    "t = float(input(\"Enter the time in years: \"))\n",
    "A = P * (1 + r / n) ** (n * t)\n",
    "print(f\"The compound interest is {A}\")"
   ]
  },
  {
   "cell_type": "markdown",
   "id": "cd1269cc",
   "metadata": {},
   "source": [
    "8) Perimeter of a Triangle:\n",
    "\n",
    "Write a Python program to calculate the perimeter of a triangle."
   ]
  },
  {
   "cell_type": "code",
   "execution_count": 16,
   "id": "3f779d81",
   "metadata": {},
   "outputs": [
    {
     "name": "stdin",
     "output_type": "stream",
     "text": [
      "Enter side a:  3\n",
      "Enter side b:  3\n",
      "Enter side c:  3\n"
     ]
    },
    {
     "name": "stdout",
     "output_type": "stream",
     "text": [
      "The perimeter of the triangle is 9.0\n"
     ]
    }
   ],
   "source": [
    "a = float(input(\"Enter side a: \"))\n",
    "b = float(input(\"Enter side b: \"))\n",
    "c = float(input(\"Enter side c: \"))\n",
    "perimeter = a + b + c\n",
    "print(f\"The perimeter of the triangle is {perimeter}\")"
   ]
  },
  {
   "cell_type": "markdown",
   "id": "f8001bc5",
   "metadata": {},
   "source": [
    "9) Volume of a Sphere:\n",
    "\n",
    "Write a Python program to calculate the volume of a sphere."
   ]
  },
  {
   "cell_type": "code",
   "execution_count": 18,
   "id": "d5efad9f",
   "metadata": {},
   "outputs": [
    {
     "name": "stdin",
     "output_type": "stream",
     "text": [
      "Enter the radius of the sphere:  5\n"
     ]
    },
    {
     "name": "stdout",
     "output_type": "stream",
     "text": [
      "The volume of the sphere is 523.5987755982989\n"
     ]
    }
   ],
   "source": [
    "r = float(input(\"Enter the radius of the sphere: \"))\n",
    "volume = (4 / 3) * math.pi * (r ** 3)\n",
    "print(f\"The volume of the sphere is {volume}\")\n"
   ]
  },
  {
   "cell_type": "markdown",
   "id": "d752c5b6",
   "metadata": {},
   "source": [
    "10) Kinetic Energy:\n",
    "\n",
    "Write a Python program to calculate the kinetic energy of an object."
   ]
  },
  {
   "cell_type": "code",
   "execution_count": 20,
   "id": "2171b040",
   "metadata": {},
   "outputs": [
    {
     "name": "stdin",
     "output_type": "stream",
     "text": [
      "Enter mass in kg:  2\n",
      "Enter velocity in m/s:  4\n"
     ]
    },
    {
     "name": "stdout",
     "output_type": "stream",
     "text": [
      "The kinetic energy is 16.0\n"
     ]
    }
   ],
   "source": [
    "mass = float(input(\"Enter mass in kg: \"))\n",
    "velocity = float(input(\"Enter velocity in m/s: \"))\n",
    "KE = 0.5 * mass * (velocity ** 2)\n",
    "print(f\"The kinetic energy is {KE}\")"
   ]
  },
  {
   "cell_type": "markdown",
   "id": "052362b1",
   "metadata": {},
   "source": [
    "11) Quadratic Equation Roots:\n",
    "\n",
    "Write a Python program to find the roots of a quadratic equation."
   ]
  },
  {
   "cell_type": "code",
   "execution_count": 22,
   "id": "151e71af",
   "metadata": {},
   "outputs": [
    {
     "name": "stdin",
     "output_type": "stream",
     "text": [
      "Enter coefficient a:  2\n",
      "Enter coefficient b:  3\n",
      "Enter coefficient c:  5\n"
     ]
    },
    {
     "name": "stdout",
     "output_type": "stream",
     "text": [
      "Complex roots\n"
     ]
    }
   ],
   "source": [
    "a = float(input(\"Enter coefficient a: \"))\n",
    "b = float(input(\"Enter coefficient b: \"))\n",
    "c = float(input(\"Enter coefficient c: \"))\n",
    "discriminant = b**2 - 4*a*c\n",
    "if discriminant >= 0:\n",
    "    root1 = (-b + math.sqrt(discriminant)) / (2 * a)\n",
    "    root2 = (-b - math.sqrt(discriminant)) / (2 * a)\n",
    "    print(f\"The roots are {root1} and {root2}\")\n",
    "else:\n",
    "    print(\"Complex roots\")\n",
    "    "
   ]
  },
  {
   "cell_type": "markdown",
   "id": "e6ce80e6",
   "metadata": {},
   "source": [
    "12) Temperature Conversion:\n",
    "\n",
    "Write a Python program to convert temperature from Celsius to Fahrenheit."
   ]
  },
  {
   "cell_type": "code",
   "execution_count": 24,
   "id": "faeda0f6",
   "metadata": {},
   "outputs": [
    {
     "name": "stdin",
     "output_type": "stream",
     "text": [
      "Enter temperature in Celsius:  60\n"
     ]
    },
    {
     "name": "stdout",
     "output_type": "stream",
     "text": [
      "Temperature in Fahrenheit is 140.0\n"
     ]
    }
   ],
   "source": [
    "celsius = float(input(\"Enter temperature in Celsius: \"))\n",
    "fahrenheit = (celsius * 9/5) + 32\n",
    "print(f\"Temperature in Fahrenheit is {fahrenheit}\")"
   ]
  },
  {
   "cell_type": "markdown",
   "id": "77ffd957",
   "metadata": {},
   "source": [
    "13) Gravitational Force:\n",
    "\n",
    "Write a Python program to calculate the gravitational force between two objects."
   ]
  },
  {
   "cell_type": "code",
   "execution_count": 26,
   "id": "930c4849",
   "metadata": {},
   "outputs": [
    {
     "name": "stdin",
     "output_type": "stream",
     "text": [
      "Enter mass 1 in kg:  5\n",
      "Enter mass 2 in kg:  6\n",
      "Enter distance in meters:  30\n"
     ]
    },
    {
     "name": "stdout",
     "output_type": "stream",
     "text": [
      "Gravitational force is 2.224666666666667e-12\n"
     ]
    }
   ],
   "source": [
    "G = 6.674 * (10**-11)\n",
    "m1 = float(input(\"Enter mass 1 in kg: \"))\n",
    "m2 = float(input(\"Enter mass 2 in kg: \"))\n",
    "r = float(input(\"Enter distance in meters: \"))\n",
    "F = G * (m1 * m2) / (r**2)\n",
    "print(f\"Gravitational force is {F}\")"
   ]
  },
  {
   "cell_type": "markdown",
   "id": "806105cb",
   "metadata": {},
   "source": [
    "14) Volume of a Cylinder:\n",
    "\n",
    "Write a Python program to calculate the volume of a cylinder."
   ]
  },
  {
   "cell_type": "code",
   "execution_count": 28,
   "id": "3973a7ae",
   "metadata": {},
   "outputs": [
    {
     "name": "stdin",
     "output_type": "stream",
     "text": [
      "Enter radius of cylinder:  24\n",
      "Enter height:  2\n"
     ]
    },
    {
     "name": "stdout",
     "output_type": "stream",
     "text": [
      "Volume of cylinder is 3619.1147369354417\n"
     ]
    }
   ],
   "source": [
    "r = float(input(\"Enter radius of cylinder: \"))\n",
    "h = float(input(\"Enter height: \"))\n",
    "volume = math.pi * r**2 * h\n",
    "print(f\"Volume of cylinder is {volume}\")\n"
   ]
  },
  {
   "cell_type": "markdown",
   "id": "41e4376c",
   "metadata": {},
   "source": [
    "15) Pressure:\n",
    "\n",
    "Write a Python program to calculate the pressure exerted by a force on a surface."
   ]
  },
  {
   "cell_type": "code",
   "execution_count": 30,
   "id": "884e7598",
   "metadata": {},
   "outputs": [
    {
     "name": "stdin",
     "output_type": "stream",
     "text": [
      "Enter force:  23\n",
      "Enter area:  2\n"
     ]
    },
    {
     "name": "stdout",
     "output_type": "stream",
     "text": [
      "Pressure is 11.5\n"
     ]
    }
   ],
   "source": [
    "F = float(input(\"Enter force: \"))\n",
    "A = float(input(\"Enter area: \"))\n",
    "P = F / A\n",
    "print(f\"Pressure is {P}\")"
   ]
  },
  {
   "cell_type": "markdown",
   "id": "42d527e7",
   "metadata": {},
   "source": [
    "16) Electric Power:\n",
    "\n",
    "Write a Python program to calculate the electric power consumed."
   ]
  },
  {
   "cell_type": "code",
   "execution_count": 32,
   "id": "cfc8538e",
   "metadata": {},
   "outputs": [
    {
     "name": "stdin",
     "output_type": "stream",
     "text": [
      "Enter voltage:  2\n",
      "Enter current:  3\n"
     ]
    },
    {
     "name": "stdout",
     "output_type": "stream",
     "text": [
      "Electric power is 6.0\n"
     ]
    }
   ],
   "source": [
    "V = float(input(\"Enter voltage: \"))\n",
    "I = float(input(\"Enter current: \"))\n",
    "P = V * I\n",
    "print(f\"Electric power is {P}\")"
   ]
  },
  {
   "cell_type": "markdown",
   "id": "75aaef6d",
   "metadata": {},
   "source": [
    "17) Perimeter of a Circle:\n",
    "\n",
    "Write a Python program to calculate the perimeter of a circle."
   ]
  },
  {
   "cell_type": "code",
   "execution_count": 34,
   "id": "cfb4b121",
   "metadata": {},
   "outputs": [
    {
     "name": "stdin",
     "output_type": "stream",
     "text": [
      "Enter radius:  2\n"
     ]
    },
    {
     "name": "stdout",
     "output_type": "stream",
     "text": [
      "Circumference is 12.566370614359172\n"
     ]
    }
   ],
   "source": [
    "r = float(input(\"Enter radius: \"))\n",
    "circumference = 2 * math.pi * r\n",
    "print(f\"Circumference is {circumference}\")"
   ]
  },
  {
   "cell_type": "markdown",
   "id": "22e5c86f",
   "metadata": {},
   "source": [
    "18) Future Value in Savings:\n",
    "\n",
    "Write a Python program to calculate the future value of an investment."
   ]
  },
  {
   "cell_type": "code",
   "execution_count": 36,
   "id": "965b386d",
   "metadata": {},
   "outputs": [
    {
     "name": "stdin",
     "output_type": "stream",
     "text": [
      "Enter present value:  3\n",
      "Enter rate:  2\n",
      "Enter time:  3\n"
     ]
    },
    {
     "name": "stdout",
     "output_type": "stream",
     "text": [
      "Future value is 81.0\n"
     ]
    }
   ],
   "source": [
    "PV = float(input(\"Enter present value: \"))\n",
    "r = float(input(\"Enter rate: \"))\n",
    "t = float(input(\"Enter time: \"))\n",
    "FV = PV * (1 + r)**t\n",
    "print(f\"Future value is {FV}\")"
   ]
  },
  {
   "cell_type": "markdown",
   "id": "2d777f3d",
   "metadata": {},
   "source": [
    "19) Work Done by a Force:\n",
    "\n",
    "Write a Python program to calculate the work done by a force."
   ]
  },
  {
   "cell_type": "code",
   "execution_count": 38,
   "id": "9a00e264",
   "metadata": {},
   "outputs": [
    {
     "name": "stdin",
     "output_type": "stream",
     "text": [
      "Enter force:  2\n",
      "Enter distance:  2\n",
      "Enter angle:  2\n"
     ]
    },
    {
     "name": "stdout",
     "output_type": "stream",
     "text": [
      "Work done is 3.997563308076383\n"
     ]
    }
   ],
   "source": [
    "f = float(input(\"Enter force: \"))\n",
    "d = float(input(\"Enter distance: \"))\n",
    "theta = float(input(\"Enter angle: \"))\n",
    "W = f * d * math.cos(math.radians(theta))\n",
    "print(f\"Work done is {W}\")"
   ]
  },
  {
   "cell_type": "markdown",
   "id": "f94b09bd",
   "metadata": {},
   "source": [
    "20) Heat Transfer:\n",
    "\n",
    "Write a Python program to calculate the amount of heat transferred."
   ]
  },
  {
   "cell_type": "code",
   "execution_count": 40,
   "id": "db52d0d1",
   "metadata": {},
   "outputs": [
    {
     "name": "stdin",
     "output_type": "stream",
     "text": [
      "Enter mass:  2\n",
      "Enter specific heat:  4\n",
      "Enter temperature change:  5\n"
     ]
    },
    {
     "name": "stdout",
     "output_type": "stream",
     "text": [
      "Heat transfer is 40.0\n"
     ]
    }
   ],
   "source": [
    "m = float(input(\"Enter mass: \"))\n",
    "c = float(input(\"Enter specific heat: \"))\n",
    "T = float(input(\"Enter temperature change: \"))\n",
    "Q = m * c * T\n",
    "print(f\"Heat transfer is {Q}\")\n"
   ]
  },
  {
   "cell_type": "code",
   "execution_count": null,
   "id": "4e42aef4-8da9-4002-bae4-bb243c6ef0d6",
   "metadata": {},
   "outputs": [],
   "source": []
  }
 ],
 "metadata": {
  "kernelspec": {
   "display_name": "Python 3 (ipykernel)",
   "language": "python",
   "name": "python3"
  },
  "language_info": {
   "codemirror_mode": {
    "name": "ipython",
    "version": 3
   },
   "file_extension": ".py",
   "mimetype": "text/x-python",
   "name": "python",
   "nbconvert_exporter": "python",
   "pygments_lexer": "ipython3",
   "version": "3.12.7"
  }
 },
 "nbformat": 4,
 "nbformat_minor": 5
}
