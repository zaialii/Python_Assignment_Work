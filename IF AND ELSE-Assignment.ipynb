{
 "cells": [
  {
   "cell_type": "markdown",
   "id": "fa4ca917-5297-4de7-8c60-82b924aea3f1",
   "metadata": {},
   "source": [
    "1. Write a program that prompts the user to input a number and display if the number is even or odd."
   ]
  },
  {
   "cell_type": "code",
   "execution_count": 4,
   "id": "f932cd6f-3d73-419b-9df1-128a3a4aa435",
   "metadata": {},
   "outputs": [
    {
     "name": "stdin",
     "output_type": "stream",
     "text": [
      "Enter a number:  21\n"
     ]
    },
    {
     "name": "stdout",
     "output_type": "stream",
     "text": [
      "The number is odd.\n"
     ]
    }
   ],
   "source": [
    "def check_even_odd():\n",
    "    number = int(input(\"Enter a number: \"))\n",
    "    if number % 2 == 0:\n",
    "        print(\"The number is even.\")\n",
    "    else:\n",
    "        print(\"The number is odd.\")\n",
    "\n",
    "check_even_odd()\n"
   ]
  },
  {
   "cell_type": "markdown",
   "id": "8754ccde-e8ca-491f-886d-e5b4b66f801f",
   "metadata": {},
   "source": [
    "2. Write a Python program that takes an age as input and determines whether a person is eligible to vote. If the age is 18 or above, print \"You are eligible to vote.\" Otherwise, print \"You are not eligible to vote yet.\"."
   ]
  },
  {
   "cell_type": "code",
   "execution_count": 8,
   "id": "40fa8fb8-dcc1-42b4-82e1-0b73d9317b4a",
   "metadata": {},
   "outputs": [
    {
     "name": "stdin",
     "output_type": "stream",
     "text": [
      "Enter your age:  20\n"
     ]
    },
    {
     "name": "stdout",
     "output_type": "stream",
     "text": [
      "You are eligible to vote.\n"
     ]
    }
   ],
   "source": [
    "def voting_eligibility():\n",
    "    age = int(input(\"Enter your age: \"))\n",
    "    if age >= 18:\n",
    "        print(\"You are eligible to vote.\")\n",
    "    else:\n",
    "        print(\"You are not eligible to vote yet.\")\n",
    "\n",
    "voting_eligibility()\n"
   ]
  },
  {
   "cell_type": "markdown",
   "id": "49742d09-1419-4fa1-94b1-dafafae91644",
   "metadata": {},
   "source": [
    "3. Write a program that prompts the user to input two integers and outputs the largest.\n"
   ]
  },
  {
   "cell_type": "code",
   "execution_count": 14,
   "id": "6c849e19-bcdb-4dbd-9b2e-0bb1830957e5",
   "metadata": {},
   "outputs": [
    {
     "name": "stdin",
     "output_type": "stream",
     "text": [
      "Enter the first number:  2\n",
      "Enter the second number:  5\n"
     ]
    },
    {
     "name": "stdout",
     "output_type": "stream",
     "text": [
      "The largest number is 5\n"
     ]
    }
   ],
   "source": [
    "def find_largest_number():\n",
    "    num1 = int(input(\"Enter the first number: \"))\n",
    "    num2 = int(input(\"Enter the second number: \"))\n",
    "    largest = num1 if num1 > num2 else num2\n",
    "    print(f\"The largest number is {largest}\")\n",
    "\n",
    "find_largest_number()\n"
   ]
  },
  {
   "cell_type": "markdown",
   "id": "1190605a-8656-467f-89b7-8dfd88120770",
   "metadata": {},
   "source": [
    "4. Write a program that prompts the user to enter a number and determines whether it is positive, negative, or zero. The program should print \"Positive\" if the number is greater than 0, \"Negative\" if the number is less than 0, and \"Zero\" if the number is 0."
   ]
  },
  {
   "cell_type": "code",
   "execution_count": 18,
   "id": "81c8b872-3425-424b-861d-1a89b3e0bc98",
   "metadata": {},
   "outputs": [
    {
     "name": "stdin",
     "output_type": "stream",
     "text": [
      "Enter a number:  2\n"
     ]
    },
    {
     "name": "stdout",
     "output_type": "stream",
     "text": [
      "Positive\n"
     ]
    }
   ],
   "source": [
    "def check_number():\n",
    "    num = float(input(\"Enter a number: \"))\n",
    "    if num > 0:\n",
    "        print(\"Positive\")\n",
    "    elif num < 0:\n",
    "        print(\"Negative\")\n",
    "    else:\n",
    "        print(\"Zero\")\n",
    "\n",
    "check_number()\n"
   ]
  },
  {
   "cell_type": "markdown",
   "id": "30e37851-8e07-4fe0-87ac-a91d32e53ff1",
   "metadata": {},
   "source": [
    "5. Write a program that prompts the user to enter their age and prints the corresponding age group using the following age groups:\n",
    "   0-12: Child\n",
    "   13-19: Teenager\n",
    "   20-59: Adult\n",
    "   60 and above: Senior Citizen."
   ]
  },
  {
   "cell_type": "code",
   "execution_count": 22,
   "id": "e6dd5e38-17ea-46be-8cbf-98a1982a3c8b",
   "metadata": {},
   "outputs": [
    {
     "name": "stdin",
     "output_type": "stream",
     "text": [
      "Enter your age:  67\n"
     ]
    },
    {
     "name": "stdout",
     "output_type": "stream",
     "text": [
      "Senior Citizen\n"
     ]
    }
   ],
   "source": [
    "def determine_age_group():\n",
    "    age = int(input(\"Enter your age: \"))\n",
    "    if age <= 12:\n",
    "        print(\"Child\")\n",
    "    elif age <= 19:\n",
    "        print(\"Teenager\")\n",
    "    elif age <= 59:\n",
    "        print(\"Adult\")\n",
    "    else:\n",
    "        print(\"Senior Citizen\")\n",
    "\n",
    "determine_age_group()\n"
   ]
  },
  {
   "cell_type": "markdown",
   "id": "6b32f60f-c6f6-4d99-94c1-5f802d9831e8",
   "metadata": {},
   "source": [
    "6. Write a program that prompts the user to input a number from 1 to 7 and displays the corresponding day for the given number. If the number is not between 1 to 7, the program should display an error message."
   ]
  },
  {
   "cell_type": "code",
   "execution_count": null,
   "id": "84e24abf-2271-48b2-968c-bac2e5599e51",
   "metadata": {},
   "outputs": [],
   "source": [
    "def day_of_week():\n",
    "    day_num = int(input(\"Enter a number (1-7): \"))\n",
    "    if day_num == 1:\n",
    "        print(\"Sunday\")\n",
    "    elif day_num == 2:\n",
    "        print(\"Monday\")\n",
    "    elif day_num == 3:\n",
    "        print(\"Tuesday\")\n",
    "    elif day_num == 4:\n",
    "        print(\"Wednesday\")\n",
    "    elif day_num == 5:\n",
    "        print(\"Thursday\")\n",
    "    elif day_num == 6:\n",
    "        print(\"Friday\")\n",
    "    elif day_num == 7:\n",
    "        print(\"Saturday\")\n",
    "    else:\n",
    "        print(\"Error: Invalid number. Please enter a number between 1 and 7.\")\n",
    "\n",
    "day_of_week()\n",
    "\n"
   ]
  },
  {
   "cell_type": "markdown",
   "id": "0c701988-ef29-4fa1-aa33-627f80179eaa",
   "metadata": {},
   "source": [
    "7. Write a program that prompts the user to enter their weight (in kilograms) and height (in meters). The program should calculate the Body Mass Index (BMI) using the formula: BMI = weight / (height * height). The program should then classify the BMI into one of the following categories:\n",
    "   * less than 18.5 - Underweight\n",
    "   * BMI between 18.5 and 24.9 - Normal weight\n",
    "   * BMI between 25 and 29.9 - Overweight\n",
    "   * BMI 30 or greater - Obesity."
   ]
  },
  {
   "cell_type": "code",
   "execution_count": 3,
   "id": "98d7da42-3599-4165-9eca-2e55272eb23a",
   "metadata": {},
   "outputs": [
    {
     "name": "stdin",
     "output_type": "stream",
     "text": [
      "Enter your weight in kg:  65\n",
      "Enter your height in meters:  8\n"
     ]
    },
    {
     "name": "stdout",
     "output_type": "stream",
     "text": [
      "Underweight\n"
     ]
    }
   ],
   "source": [
    "def calculate_bmi():\n",
    "    weight_kg = float(input(\"Enter your weight in kg: \"))\n",
    "    height_m = float(input(\"Enter your height in meters: \"))\n",
    "    bmi_value = weight_kg / (height_m ** 2)\n",
    "\n",
    "    if bmi_value < 18.5:\n",
    "        print(\"Underweight\")\n",
    "    elif bmi_value < 25:\n",
    "        print(\"Normal weight\")\n",
    "    elif bmi_value < 30:\n",
    "        print(\"Overweight\")\n",
    "    else:\n",
    "        print(\"Obesity\")\n",
    "\n",
    "calculate_bmi()\n"
   ]
  },
  {
   "cell_type": "markdown",
   "id": "70d0d228-c3e2-475b-822f-3ebe7cc701a1",
   "metadata": {},
   "source": [
    "8. The marks obtained by a student in 3 different subjects are input by the user. Your program should calculate the average of subjects and display the grade using the following rules:\n",
    "   * Average 90-100: Grade A\n",
    "   * Average 80-89: Grade B\n",
    "   * Average 70-79: Grade C\n",
    "   * Average 60-69: Grade D\n",
    "   * Average 0-59: Grade F."
   ]
  },
  {
   "cell_type": "code",
   "execution_count": 7,
   "id": "c62bfe05-df87-41a4-ae35-dabc7c01d5d3",
   "metadata": {},
   "outputs": [
    {
     "name": "stdin",
     "output_type": "stream",
     "text": [
      "Enter marks for subject 1:  20\n",
      "Enter marks for subject 2:  23\n",
      "Enter marks for subject 3:  45\n"
     ]
    },
    {
     "name": "stdout",
     "output_type": "stream",
     "text": [
      "Average: 29.333333333333332, Grade: F\n"
     ]
    }
   ],
   "source": [
    "def calculate_grade():\n",
    "    scores = [float(input(f\"Enter marks for subject {i+1}: \")) for i in range(3)]\n",
    "    avg_score = sum(scores) / len(scores)\n",
    "\n",
    "    if avg_score >= 90:\n",
    "        grade = 'A'\n",
    "    elif avg_score >= 80:\n",
    "        grade = 'B'\n",
    "    elif avg_score >= 70:\n",
    "        grade = 'C'\n",
    "    elif avg_score >= 60:\n",
    "        grade = 'D'\n",
    "    else:\n",
    "        grade = 'F'\n",
    "\n",
    "    print(f\"Average: {avg_score}, Grade: {grade}\")\n",
    "\n",
    "calculate_grade()\n"
   ]
  },
  {
   "cell_type": "markdown",
   "id": "172e29fc-29ee-4333-86b2-444d67ef9f2c",
   "metadata": {},
   "source": [
    "9. Write a program that prompts the user to input the value of a, b, and c for a quadratic equation ax^2 + bx + c = 0 and outputs the roots of the equation."
   ]
  },
  {
   "cell_type": "code",
   "execution_count": 11,
   "id": "cd3873f3-2d31-40ea-a251-9e21feda2f0e",
   "metadata": {},
   "outputs": [
    {
     "name": "stdin",
     "output_type": "stream",
     "text": [
      "Enter coefficient a:  2\n",
      "Enter coefficient b:  3\n",
      "Enter coefficient c:  4\n"
     ]
    },
    {
     "name": "stdout",
     "output_type": "stream",
     "text": [
      "Roots are complex: -0.75 + 1.1989578808281798i, -0.75 - 1.1989578808281798i\n"
     ]
    }
   ],
   "source": [
    "import math\n",
    "\n",
    "def quadratic_roots():\n",
    "    a = float(input(\"Enter coefficient a: \"))\n",
    "    b = float(input(\"Enter coefficient b: \"))\n",
    "    c = float(input(\"Enter coefficient c: \"))\n",
    "    discriminant = b ** 2 - 4 * a * c\n",
    "    if discriminant > 0:\n",
    "        root1 = (-b + math.sqrt(discriminant)) / (2 * a)\n",
    "        root2 = (-b - math.sqrt(discriminant)) / (2 * a)\n",
    "        print(f\"Roots are real and different: {root1}, {root2}\")\n",
    "    elif discriminant == 0:\n",
    "        root = -b / (2 * a)\n",
    "        print(f\"Roots are real and equal: {root}\")\n",
    "    else:\n",
    "        real = -b / (2 * a)\n",
    "        imaginary = math.sqrt(-discriminant) / (2 * a)\n",
    "        print(f\"Roots are complex: {real} + {imaginary}i, {real} - {imaginary}i\")\n",
    "\n",
    "quadratic_roots()\n",
    "\n"
   ]
  },
  {
   "cell_type": "markdown",
   "id": "57be9967-b6fd-4aa2-bd49-85cfdd02af9d",
   "metadata": {},
   "source": [
    "10. Write a program that prompts the user to enter three numbers and sorts them in ascending order.\n"
   ]
  },
  {
   "cell_type": "code",
   "execution_count": 23,
   "id": "b2caa59d-a4f1-42e9-9600-6a4a526dae73",
   "metadata": {},
   "outputs": [
    {
     "name": "stdin",
     "output_type": "stream",
     "text": [
      "Enter three numbers separated by spaces:  2 1 2\n"
     ]
    },
    {
     "name": "stdout",
     "output_type": "stream",
     "text": [
      "Sorted numbers: [1, 2, 2]\n"
     ]
    }
   ],
   "source": [
    "\n",
    "numbers = list(map(int, input(\"Enter three numbers separated by spaces: \").split()))\n",
    "numbers.sort()\n",
    "print(\"Sorted numbers:\", numbers)\n",
    "    "
   ]
  },
  {
   "cell_type": "markdown",
   "id": "bdd2066f-5a9f-4808-9acb-828c8922a627",
   "metadata": {},
   "source": [
    "11. Write a program that prompts the user to input three integers and outputs the largest."
   ]
  },
  {
   "cell_type": "code",
   "execution_count": 26,
   "id": "fb8dbca4-83c8-4851-8255-bd9a0cc8601d",
   "metadata": {},
   "outputs": [
    {
     "name": "stdin",
     "output_type": "stream",
     "text": [
      "Enter three integers separated by spaces:  2 56 43\n"
     ]
    },
    {
     "name": "stdout",
     "output_type": "stream",
     "text": [
      "Largest number is: 56\n"
     ]
    }
   ],
   "source": [
    "def largest_of_three():\n",
    "    nums = list(map(int, input(\"Enter three integers separated by spaces: \").split()))\n",
    "    print(\"Largest number is:\", max(nums))\n",
    "\n",
    "largest_of_three()\n"
   ]
  },
  {
   "cell_type": "markdown",
   "id": "ad9379ff-3998-49b4-80f5-5b24ce949b98",
   "metadata": {},
   "source": [
    "12. Write a program that prompts the user to input a character and determines whether the character is a vowel or consonant."
   ]
  },
  {
   "cell_type": "code",
   "execution_count": 31,
   "id": "b23ec060-9cc3-417c-bdd3-a52f457a77da",
   "metadata": {},
   "outputs": [
    {
     "name": "stdin",
     "output_type": "stream",
     "text": [
      "Enter a character:  ali\n"
     ]
    },
    {
     "name": "stdout",
     "output_type": "stream",
     "text": [
      "The character is a consonant.\n"
     ]
    }
   ],
   "source": [
    "char = input(\"Enter a character: \").lower()\n",
    "if char in 'aeiou':\n",
    "    print(\"The character is a vowel.\")\n",
    "else:\n",
    "    print(\"The character is a consonant.\")\n",
    "    "
   ]
  },
  {
   "cell_type": "markdown",
   "id": "7178a999-da05-47a0-9cb1-36eec0ee90ec",
   "metadata": {},
   "source": [
    "13. Write a program that prompts the user to input a year and determines whether the year is a leap year or not."
   ]
  },
  {
   "cell_type": "code",
   "execution_count": 39,
   "id": "c8451d5a-725e-4c74-a2d7-06d62de4bc12",
   "metadata": {},
   "outputs": [
    {
     "name": "stdin",
     "output_type": "stream",
     "text": [
      "Enter a year:  2\n"
     ]
    },
    {
     "name": "stdout",
     "output_type": "stream",
     "text": [
      "2 is NOT a Leap Year\n"
     ]
    }
   ],
   "source": [
    "def check_leap_year():\n",
    "    year = int(input(\"Enter a year: \"))\n",
    "    if (year % 4 == 0 and year % 100 != 0) or (year % 400 == 0):\n",
    "        print(f\"{year} is a Leap Year\")\n",
    "    else:\n",
    "        print(f\"{year} is NOT a Leap Year\")\n",
    "\n",
    "check_leap_year()\n"
   ]
  },
  {
   "cell_type": "markdown",
   "id": "b75d2595-7017-4710-9837-fc2138366a8a",
   "metadata": {},
   "source": [
    "14. Write a program that prompts the user to input the number of calls and calculates the monthly telephone bill as per the given rules:\n",
    "   * Minimum Rs. 200 for up to 100 calls.\n",
    "   * Plus Rs. 0.60 per call for the next 50 calls.\n",
    "   * Plus Rs. 0.50 per call for the next 50 calls.\n",
    "   * Plus Rs. 0.40 per call for any call beyond 200 calls."
   ]
  },
  {
   "cell_type": "code",
   "execution_count": 44,
   "id": "0058ac4d-a092-492d-8629-5e81e23162bf",
   "metadata": {},
   "outputs": [
    {
     "name": "stdin",
     "output_type": "stream",
     "text": [
      "Enter the number of calls:  2\n"
     ]
    },
    {
     "name": "stdout",
     "output_type": "stream",
     "text": [
      "Your total bill is: Rs. 200.00\n"
     ]
    }
   ],
   "source": [
    "def calculate_telephone_bill():\n",
    "    num_calls = int(input(\"Enter the number of calls: \"))\n",
    "    if num_calls <= 100:\n",
    "        total_bill = 200\n",
    "    elif num_calls <= 150:\n",
    "        total_bill = 200 + (num_calls - 100) * 0.60\n",
    "    elif num_calls <= 200:\n",
    "        total_bill = 200 + 50 * 0.60 + (num_calls - 150) * 0.50\n",
    "    else:\n",
    "        total_bill = 200 + 50 * 0.60 + 50 * 0.50 + (num_calls - 200) * 0.40\n",
    "\n",
    "    print(f\"Your total bill is: Rs. {total_bill:.2f}\")\n",
    "\n",
    "calculate_telephone_bill()\n"
   ]
  },
  {
   "cell_type": "code",
   "execution_count": null,
   "id": "f22fc447-7dbb-40b6-8750-6f738b09db7d",
   "metadata": {},
   "outputs": [],
   "source": []
  }
 ],
 "metadata": {
  "kernelspec": {
   "display_name": "Python 3 (ipykernel)",
   "language": "python",
   "name": "python3"
  },
  "language_info": {
   "codemirror_mode": {
    "name": "ipython",
    "version": 3
   },
   "file_extension": ".py",
   "mimetype": "text/x-python",
   "name": "python",
   "nbconvert_exporter": "python",
   "pygments_lexer": "ipython3",
   "version": "3.12.7"
  }
 },
 "nbformat": 4,
 "nbformat_minor": 5
}
