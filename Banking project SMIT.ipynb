{
 "cells": [
  {
   "cell_type": "code",
   "execution_count": 1,
   "id": "50a00a32-3eeb-4956-9641-903c4cd18b55",
   "metadata": {},
   "outputs": [
    {
     "name": "stdin",
     "output_type": "stream",
     "text": [
      "Enter the account title of the bank:  ali\n",
      "\n",
      "Select an option (Enter the number of the option):\n",
      "                      1) Deposit\n",
      "                      2) Withdraw\n",
      "                      3) Check Balance \n",
      "                      4) Bank Statement \n",
      "                      5) Exit\n",
      "         1\n",
      "Enter amount to deposit:  500\n"
     ]
    },
    {
     "name": "stdout",
     "output_type": "stream",
     "text": [
      "ali deposited 500.0 in their account.\n"
     ]
    },
    {
     "name": "stdin",
     "output_type": "stream",
     "text": [
      "\n",
      "Select an option (Enter the number of the option):\n",
      "                      1) Deposit\n",
      "                      2) Withdraw\n",
      "                      3) Check Balance \n",
      "                      4) Bank Statement \n",
      "                      5) Exit\n",
      "         2\n",
      "Enter amount to withdraw:  200\n"
     ]
    },
    {
     "name": "stdout",
     "output_type": "stream",
     "text": [
      "ali withdrew 200.0 from their account.\n"
     ]
    },
    {
     "name": "stdin",
     "output_type": "stream",
     "text": [
      "\n",
      "Select an option (Enter the number of the option):\n",
      "                      1) Deposit\n",
      "                      2) Withdraw\n",
      "                      3) Check Balance \n",
      "                      4) Bank Statement \n",
      "                      5) Exit\n",
      "         3\n"
     ]
    },
    {
     "name": "stdout",
     "output_type": "stream",
     "text": [
      "Account Balance: 300.0\n"
     ]
    },
    {
     "name": "stdin",
     "output_type": "stream",
     "text": [
      "\n",
      "Select an option (Enter the number of the option):\n",
      "                      1) Deposit\n",
      "                      2) Withdraw\n",
      "                      3) Check Balance \n",
      "                      4) Bank Statement \n",
      "                      5) Exit\n",
      "         4\n"
     ]
    },
    {
     "name": "stdout",
     "output_type": "stream",
     "text": [
      "Account Statement for ali:\n",
      " - Deposit: 500.0. New balance: 500.0\n",
      " - Withdraw: 200.0. New balance: 300.0\n"
     ]
    },
    {
     "name": "stdin",
     "output_type": "stream",
     "text": [
      "\n",
      "Select an option (Enter the number of the option):\n",
      "                      1) Deposit\n",
      "                      2) Withdraw\n",
      "                      3) Check Balance \n",
      "                      4) Bank Statement \n",
      "                      5) Exit\n",
      "         5\n"
     ]
    },
    {
     "name": "stdout",
     "output_type": "stream",
     "text": [
      "Thanks for using this bank :)\n"
     ]
    }
   ],
   "source": [
    "account_title = input(\"Enter the account title of the bank: \")\n",
    "account_person = {\n",
    "    \"name\": account_title,\n",
    "    \"balance\": 0.0,\n",
    "    \"Transaction\": [],\n",
    "}\n",
    "\n",
    "# Initialize the transaction log file\n",
    "with open('Transaction.txt', 'w') as trans:\n",
    "    trans.write(\"\")  # Clear file content\n",
    "\n",
    "def deposit(dep):\n",
    "    try:\n",
    "        dep = float(dep)\n",
    "        if dep > 0:\n",
    "            account_person[\"balance\"] += dep\n",
    "            with open(\"Transaction.txt\", \"a\") as trans:\n",
    "                trans.write(f\"Deposit: {dep}. New balance: {account_person['balance']}\\n\")\n",
    "            print(f\"{account_person['name']} deposited {dep} in their account.\")\n",
    "        else:\n",
    "            print(\"Enter a positive number.\")\n",
    "    except ValueError:\n",
    "        print(\"Enter a numeric value.\")\n",
    "\n",
    "def withdraw(wd):\n",
    "    try:\n",
    "        wd = float(wd)\n",
    "        if wd > 0:\n",
    "            if account_person[\"balance\"] >= wd:\n",
    "                account_person[\"balance\"] -= wd\n",
    "                with open(\"Transaction.txt\", \"a\") as trans:\n",
    "                    trans.write(f\"Withdraw: {wd}. New balance: {account_person['balance']}\\n\")\n",
    "                print(f\"{account_person['name']} withdrew {wd} from their account.\")\n",
    "            else:\n",
    "                print(\"Insufficient balance.\")\n",
    "    except ValueError:\n",
    "        print(\"Enter a numeric value.\")\n",
    "\n",
    "def check_balance():\n",
    "    print(f\"Account Balance: {account_person['balance']}\")\n",
    "\n",
    "def print_transactions():\n",
    "    try:\n",
    "        print(f\"Account Statement for {account_person['name']}:\")\n",
    "        with open(\"Transaction.txt\") as trans:\n",
    "            for line in trans:\n",
    "                print(f\" - {line}\", end=\"\")\n",
    "    except Exception as error:\n",
    "        print(f\"An error occurred: {error}\")\n",
    "\n",
    "while True:\n",
    "    try:\n",
    "        a = input(\"\"\"\\nSelect an option (Enter the number of the option):\n",
    "                      1) Deposit\n",
    "                      2) Withdraw\n",
    "                      3) Check Balance \n",
    "                      4) Bank Statement \n",
    "                      5) Exit\n",
    "        \"\"\")\n",
    "        if a == \"1\":\n",
    "            dep = input(\"Enter amount to deposit: \")\n",
    "            deposit(dep)\n",
    "        elif a == \"2\":\n",
    "            wd = input(\"Enter amount to withdraw: \")\n",
    "            withdraw(wd)\n",
    "        elif a == \"3\":\n",
    "            check_balance()\n",
    "        elif a == \"4\":\n",
    "            print_transactions()\n",
    "        elif a == \"5\":\n",
    "            print('Thanks for using this bank :)')\n",
    "            break\n",
    "        else:\n",
    "            print('Invalid option')\n",
    "    except Exception as e:\n",
    "        print(f'An error occurred: {e}')\n"
   ]
  },
  {
   "cell_type": "code",
   "execution_count": null,
   "id": "0ef5652c-4960-4db3-8f85-9e2f7a75886e",
   "metadata": {},
   "outputs": [],
   "source": [
    "\n"
   ]
  }
 ],
 "metadata": {
  "kernelspec": {
   "display_name": "Python 3 (ipykernel)",
   "language": "python",
   "name": "python3"
  },
  "language_info": {
   "codemirror_mode": {
    "name": "ipython",
    "version": 3
   },
   "file_extension": ".py",
   "mimetype": "text/x-python",
   "name": "python",
   "nbconvert_exporter": "python",
   "pygments_lexer": "ipython3",
   "version": "3.12.7"
  }
 },
 "nbformat": 4,
 "nbformat_minor": 5
}
