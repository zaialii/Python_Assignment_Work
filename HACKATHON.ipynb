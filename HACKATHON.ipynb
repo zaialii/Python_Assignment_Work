{
 "cells": [
  {
   "cell_type": "code",
   "execution_count": 1,
   "id": "d58f45ba-36b4-4e6a-ba9b-7d1bad99372b",
   "metadata": {},
   "outputs": [
    {
     "name": "stdout",
     "output_type": "stream",
     "text": [
      "\n",
      "--- Welcome to the Banking System ---\n",
      "1. Open a New Account\n",
      "2. Deposit Money into Account\n",
      "3. Withdraw Money from Account\n",
      "4. Check Account Balance\n",
      "5. Transfer Money between Accounts\n",
      "6. View Account Activity\n",
      "7. Admin: View Total Deposits in Bank\n",
      "8. Admin: View Total Number of Accounts\n",
      "9. Exit\n"
     ]
    },
    {
     "name": "stdin",
     "output_type": "stream",
     "text": [
      "Select an option from the menu:  1\n",
      "Enter the name of the account holder:  ali\n"
     ]
    },
    {
     "name": "stdout",
     "output_type": "stream",
     "text": [
      "Account created successfully. Your account number is 1.\n",
      "\n",
      "--- Welcome to the Banking System ---\n",
      "1. Open a New Account\n",
      "2. Deposit Money into Account\n",
      "3. Withdraw Money from Account\n",
      "4. Check Account Balance\n",
      "5. Transfer Money between Accounts\n",
      "6. View Account Activity\n",
      "7. Admin: View Total Deposits in Bank\n",
      "8. Admin: View Total Number of Accounts\n",
      "9. Exit\n"
     ]
    },
    {
     "name": "stdin",
     "output_type": "stream",
     "text": [
      "Select an option from the menu:  2\n",
      "Enter account number:  1\n",
      "Enter the amount to deposit:  1000\n"
     ]
    },
    {
     "name": "stdout",
     "output_type": "stream",
     "text": [
      "Successfully deposited 1000.0.\n",
      "\n",
      "--- Welcome to the Banking System ---\n",
      "1. Open a New Account\n",
      "2. Deposit Money into Account\n",
      "3. Withdraw Money from Account\n",
      "4. Check Account Balance\n",
      "5. Transfer Money between Accounts\n",
      "6. View Account Activity\n",
      "7. Admin: View Total Deposits in Bank\n",
      "8. Admin: View Total Number of Accounts\n",
      "9. Exit\n"
     ]
    },
    {
     "name": "stdin",
     "output_type": "stream",
     "text": [
      "Select an option from the menu:  3\n",
      "Enter account number:  1\n",
      "Enter the amount to withdraw:  500\n"
     ]
    },
    {
     "name": "stdout",
     "output_type": "stream",
     "text": [
      "Successfully withdrew 500.0.\n",
      "\n",
      "--- Welcome to the Banking System ---\n",
      "1. Open a New Account\n",
      "2. Deposit Money into Account\n",
      "3. Withdraw Money from Account\n",
      "4. Check Account Balance\n",
      "5. Transfer Money between Accounts\n",
      "6. View Account Activity\n",
      "7. Admin: View Total Deposits in Bank\n",
      "8. Admin: View Total Number of Accounts\n",
      "9. Exit\n"
     ]
    },
    {
     "name": "stdin",
     "output_type": "stream",
     "text": [
      "Select an option from the menu:  4\n",
      "Enter account number:  1\n"
     ]
    },
    {
     "name": "stdout",
     "output_type": "stream",
     "text": [
      "Current balance: 500.0\n",
      "\n",
      "--- Welcome to the Banking System ---\n",
      "1. Open a New Account\n",
      "2. Deposit Money into Account\n",
      "3. Withdraw Money from Account\n",
      "4. Check Account Balance\n",
      "5. Transfer Money between Accounts\n",
      "6. View Account Activity\n",
      "7. Admin: View Total Deposits in Bank\n",
      "8. Admin: View Total Number of Accounts\n",
      "9. Exit\n"
     ]
    },
    {
     "name": "stdin",
     "output_type": "stream",
     "text": [
      "Select an option from the menu:  9\n"
     ]
    },
    {
     "name": "stdout",
     "output_type": "stream",
     "text": [
      "Thank you for using our banking system! Goodbye!\n"
     ]
    }
   ],
   "source": [
    "class BankAccount:\n",
    "    def __init__(self, account_number, account_holder):\n",
    "        self.account_number = account_number\n",
    "        self.account_holder = account_holder\n",
    "        self.balance = 0\n",
    "        self.activity_log = []\n",
    "\n",
    "    def deposit(self, amount):\n",
    "        if amount > 0:\n",
    "            self.balance += amount\n",
    "            self.add_activity(f\"Deposited: {amount}\")\n",
    "            return f\"Successfully deposited {amount}.\"\n",
    "        return \"Invalid deposit amount.\"\n",
    "\n",
    "    def withdraw(self, amount):\n",
    "        if amount > 0 and self.balance >= amount:\n",
    "            self.balance -= amount\n",
    "            self.add_activity(f\"Withdrew: {amount}\")\n",
    "            return f\"Successfully withdrew {amount}.\"\n",
    "        return \"Insufficient balance or invalid amount.\"\n",
    "\n",
    "    def check_balance(self):\n",
    "        return f\"Current balance: {self.balance}\"\n",
    "\n",
    "    def add_activity(self, description):\n",
    "        self.activity_log.append(description)\n",
    "\n",
    "    def view_activity_log(self):\n",
    "        print(f\"Account Activity for {self.account_holder} (Account {self.account_number}):\")\n",
    "        for activity in self.activity_log:\n",
    "            print(activity)\n",
    "\n",
    "class Bank:\n",
    "    def __init__(self):\n",
    "        self.accounts = {}\n",
    "\n",
    "    def open_account(self, account_holder):\n",
    "        account_number = len(self.accounts) + 1\n",
    "        new_account = BankAccount(account_number, account_holder)\n",
    "        self.accounts[account_number] = new_account\n",
    "        return f\"Account created successfully. Your account number is {account_number}.\"\n",
    "\n",
    "    def get_account(self, account_number):\n",
    "        return self.accounts.get(account_number, None)\n",
    "\n",
    "    def transfer(self, sender_account_number, receiver_account_number, amount):\n",
    "        sender = self.get_account(sender_account_number)\n",
    "        receiver = self.get_account(receiver_account_number)\n",
    "        if sender and receiver:\n",
    "            if sender.balance >= amount:\n",
    "                sender.withdraw(amount)\n",
    "                receiver.deposit(amount)\n",
    "                return f\"Transferred {amount} from Account {sender_account_number} to Account {receiver_account_number}.\"\n",
    "            return \"Insufficient balance for transfer.\"\n",
    "        return \"Invalid account numbers.\"\n",
    "\n",
    "    def admin_check_total_deposit(self):\n",
    "        total_deposit = sum(account.balance for account in self.accounts.values())\n",
    "        return f\"Total deposits in the bank: {total_deposit}\"\n",
    "\n",
    "    def admin_check_total_accounts(self):\n",
    "        return f\"Total number of accounts: {len(self.accounts)}\"\n",
    "\n",
    "def main():\n",
    "    bank = Bank()\n",
    "    while True:\n",
    "        print(\"\\n--- Welcome to the Banking System ---\")\n",
    "        print(\"1. Open a New Account\")\n",
    "        print(\"2. Deposit Money into Account\")\n",
    "        print(\"3. Withdraw Money from Account\")\n",
    "        print(\"4. Check Account Balance\")\n",
    "        print(\"5. Transfer Money between Accounts\")\n",
    "        print(\"6. View Account Activity\")\n",
    "        print(\"7. Admin: View Total Deposits in Bank\")\n",
    "        print(\"8. Admin: View Total Number of Accounts\")\n",
    "        print(\"9. Exit\")\n",
    "\n",
    "        choice = int(input(\"Select an option from the menu: \"))\n",
    "\n",
    "        if choice == 1:\n",
    "            name = input(\"Enter the name of the account holder: \")\n",
    "            print(bank.open_account(name))\n",
    "\n",
    "        elif choice == 2:\n",
    "            acc_no = int(input(\"Enter account number: \"))\n",
    "            amount = float(input(\"Enter the amount to deposit: \"))\n",
    "            account = bank.get_account(acc_no)\n",
    "            if account:\n",
    "                print(account.deposit(amount))\n",
    "            else:\n",
    "                print(\"Account not found.\")\n",
    "\n",
    "        elif choice == 3:\n",
    "            acc_no = int(input(\"Enter account number: \"))\n",
    "            amount = float(input(\"Enter the amount to withdraw: \"))\n",
    "            account = bank.get_account(acc_no)\n",
    "            if account:\n",
    "                print(account.withdraw(amount))\n",
    "            else:\n",
    "                print(\"Account not found.\")\n",
    "\n",
    "        elif choice == 4:\n",
    "            acc_no = int(input(\"Enter account number: \"))\n",
    "            account = bank.get_account(acc_no)\n",
    "            if account:\n",
    "                print(account.check_balance())\n",
    "            else:\n",
    "                print(\"Account not found.\")\n",
    "\n",
    "        elif choice == 5:\n",
    "            sender = int(input(\"Enter sender's account number: \"))\n",
    "            receiver = int(input(\"Enter receiver's account number: \"))\n",
    "            amount = float(input(\"Enter the amount to transfer: \"))\n",
    "            print(bank.transfer(sender, receiver, amount))\n",
    "\n",
    "        elif choice == 6:\n",
    "            acc_no = int(input(\"Enter account number: \"))\n",
    "            account = bank.get_account(acc_no)\n",
    "            if account:\n",
    "                account.view_activity_log()\n",
    "            else:\n",
    "                print(\"Account not found.\")\n",
    "\n",
    "        elif choice == 7:\n",
    "            print(bank.admin_check_total_deposit())\n",
    "\n",
    "        elif choice == 8:\n",
    "            print(bank.admin_check_total_accounts())\n",
    "\n",
    "        elif choice == 9:\n",
    "            print(\"Thank you for using our banking system! Goodbye!\")\n",
    "            break\n",
    "\n",
    "        else:\n",
    "            print(\"Invalid choice. Please try again.\")\n",
    "\n",
    "if __name__ == \"__main__\":\n",
    "    main()\n"
   ]
  },
  {
   "cell_type": "code",
   "execution_count": null,
   "id": "6698418d-bc93-4869-94dc-434fdab4e56f",
   "metadata": {},
   "outputs": [],
   "source": []
  }
 ],
 "metadata": {
  "kernelspec": {
   "display_name": "Python 3 (ipykernel)",
   "language": "python",
   "name": "python3"
  },
  "language_info": {
   "codemirror_mode": {
    "name": "ipython",
    "version": 3
   },
   "file_extension": ".py",
   "mimetype": "text/x-python",
   "name": "python",
   "nbconvert_exporter": "python",
   "pygments_lexer": "ipython3",
   "version": "3.12.7"
  }
 },
 "nbformat": 4,
 "nbformat_minor": 5
}
