{
 "cells": [
  {
   "cell_type": "markdown",
   "id": "86c66457",
   "metadata": {},
   "source": [
    "1. Write a program that accepts a string from user. Your program should count and display the number of vowels in that string."
   ]
  },
  {
   "cell_type": "code",
   "execution_count": 1,
   "id": "92da343a",
   "metadata": {},
   "outputs": [
    {
     "name": "stdin",
     "output_type": "stream",
     "text": [
      "Enter some text:  ali\n"
     ]
    },
    {
     "name": "stdout",
     "output_type": "stream",
     "text": [
      "Total vowels: 2\n"
     ]
    }
   ],
   "source": [
    "text = input(\"Enter some text: \").lower()\n",
    "vowels = \"aeiou\"\n",
    "count = sum(1 for letter in text if letter in vowels)\n",
    "print(\"Total vowels:\", count)"
   ]
  },
  {
   "cell_type": "markdown",
   "id": "ae46c4bc",
   "metadata": {},
   "source": [
    "2. Write a program that reads a string from keyboard and display:\n",
    "   * The number of uppercase letters in the string\n",
    "   * The number of lowercase letters in the string\n",
    "   * The number of digits in the string\n",
    "   * The number of whitespace characters in the string"
   ]
  },
  {
   "cell_type": "code",
   "execution_count": 3,
   "id": "e43df45b",
   "metadata": {},
   "outputs": [
    {
     "name": "stdin",
     "output_type": "stream",
     "text": [
      "Enter some text:  hello\n"
     ]
    },
    {
     "name": "stdout",
     "output_type": "stream",
     "text": [
      "Uppercase: 0, Lowercase: 5, Digits: 0, Spaces: 0\n"
     ]
    }
   ],
   "source": [
    "text = input(\"Enter some text: \")\n",
    "upper_case = sum(1 for ch in text if ch.isupper())\n",
    "lower_case = sum(1 for ch in text if ch.islower())\n",
    "digits = sum(1 for ch in text if ch.isdigit())\n",
    "spaces = sum(1 for ch in text if ch.isspace())\n",
    "\n",
    "print(f\"Uppercase: {upper_case}, Lowercase: {lower_case}, Digits: {digits}, Spaces: {spaces}\")\n"
   ]
  },
  {
   "cell_type": "markdown",
   "id": "d388c5c0",
   "metadata": {},
   "source": [
    "3. Write a Python program that accepts a string from user. Your program should create and display a new string where the first and last characters have been exchanged.\n",
    "   For example, if the user enters the string 'HELLO' then new string would be 'OELLH'."
   ]
  },
  {
   "cell_type": "code",
   "execution_count": 5,
   "id": "027f3770",
   "metadata": {},
   "outputs": [
    {
     "name": "stdin",
     "output_type": "stream",
     "text": [
      "Enter some text:  hello i am in karachi\n"
     ]
    },
    {
     "name": "stdout",
     "output_type": "stream",
     "text": [
      "Swapped text: iello i am in karachh\n"
     ]
    }
   ],
   "source": [
    "text = input(\"Enter some text: \")\n",
    "if len(text) < 2:\n",
    "    print(\"Text too short to swap.\")\n",
    "else:\n",
    "    swapped_text = text[-1] + text[1:-1] + text[0]\n",
    "    print(\"Swapped text:\", swapped_text)\n"
   ]
  },
  {
   "cell_type": "markdown",
   "id": "0d2db8ce",
   "metadata": {},
   "source": [
    "4. Write a Python program that accepts a string from user. Your program should create a new string in reverse of the first string and display it.\n",
    "   For example, if the user enters the string 'EXAM' then new string would be 'MAXE'."
   ]
  },
  {
   "cell_type": "code",
   "execution_count": 7,
   "id": "809bcda8",
   "metadata": {},
   "outputs": [
    {
     "name": "stdin",
     "output_type": "stream",
     "text": [
      "Enter some text:  hello jee\n"
     ]
    },
    {
     "name": "stdout",
     "output_type": "stream",
     "text": [
      "Reversed text: eej olleh\n"
     ]
    }
   ],
   "source": [
    "text = input(\"Enter some text: \")\n",
    "reversed_text = text[::-1]\n",
    "print(\"Reversed text:\", reversed_text)\n"
   ]
  },
  {
   "cell_type": "markdown",
   "id": "d6ecdd1c",
   "metadata": {},
   "source": [
    "5. Write a Python program that accepts a string from user. Your program should create a new string by shifting one position to the left.\n",
    "   For example, if the user enters the string 'examination 2021' then new string would be 'xamination 2021e'."
   ]
  },
  {
   "cell_type": "code",
   "execution_count": 9,
   "id": "a8f98bf0",
   "metadata": {},
   "outputs": [
    {
     "name": "stdin",
     "output_type": "stream",
     "text": [
      "Enter some text:  hello\n"
     ]
    },
    {
     "name": "stdout",
     "output_type": "stream",
     "text": [
      "Shifted text: elloh\n"
     ]
    }
   ],
   "source": [
    "text = input(\"Enter some text: \")\n",
    "shifted_text = text[1:] + text[0]\n",
    "print(\"Shifted text:\", shifted_text)\n"
   ]
  },
  {
   "cell_type": "markdown",
   "id": "b7e9f1dc",
   "metadata": {},
   "source": [
    "6. Write a program that asks the user to input his name and print its initials. Assuming that the user always types first name, middle name, and last name and does not include any unnecessary spaces.\n",
    "   For example, if the user enters Ajay Kumar Garg the program should display A. K. G.\n",
    "   Note: Don't use split() method."
   ]
  },
  {
   "cell_type": "code",
   "execution_count": 11,
   "id": "24bdc18d",
   "metadata": {},
   "outputs": [
    {
     "name": "stdin",
     "output_type": "stream",
     "text": [
      "Enter your full name:  ali\n"
     ]
    },
    {
     "name": "stdout",
     "output_type": "stream",
     "text": [
      "Your initials: A.\n"
     ]
    }
   ],
   "source": [
    "full_name = input(\"Enter your full name: \")\n",
    "initials = ''.join([word[0].upper() + '. ' for word in full_name.split()])\n",
    "print(\"Your initials:\", initials.strip())\n"
   ]
  },
  {
   "cell_type": "markdown",
   "id": "019d07bb",
   "metadata": {},
   "source": [
    "7. A palindrome is a string that reads the same backward as forward. For example, the words dad, madam, and radar are all palindromes. Write a program that determines whether the string is a palindrome.\n",
    "   Note: do not use reverse() method."
   ]
  },
  {
   "cell_type": "code",
   "execution_count": 13,
   "id": "2f1f4ce4",
   "metadata": {},
   "outputs": [
    {
     "name": "stdin",
     "output_type": "stream",
     "text": [
      "Enter some text:  hello bello\n"
     ]
    },
    {
     "name": "stdout",
     "output_type": "stream",
     "text": [
      "It is not a palindrome.\n"
     ]
    }
   ],
   "source": [
    "text = input(\"Enter some text: \")\n",
    "is_palindrome = text == text[::-1]\n",
    "print(\"It is a palindrome.\" if is_palindrome else \"It is not a palindrome.\")\n"
   ]
  },
  {
   "cell_type": "markdown",
   "id": "66ba5640",
   "metadata": {},
   "source": [
    "8. Write a program that displays the following output:\n",
    "   SHIFT\n",
    "   HIFTS\n",
    "   IFTSH\n",
    "   FTSHI\n",
    "   TSHIF\n",
    "   SHIFT"
   ]
  },
  {
   "cell_type": "code",
   "execution_count": 15,
   "id": "8f740685",
   "metadata": {},
   "outputs": [
    {
     "name": "stdout",
     "output_type": "stream",
     "text": [
      "SHIFT\n",
      "HIFTS\n",
      "IFTSH\n",
      "FTSHI\n",
      "TSHIF\n"
     ]
    }
   ],
   "source": [
    "text = \"SHIFT\"\n",
    "for i in range(len(text)):\n",
    "    print(text[i:] + text[:i])\n"
   ]
  },
  {
   "cell_type": "markdown",
   "id": "97b786a3",
   "metadata": {},
   "source": [
    "9. Write a program in Python that accepts a string to set up a password. Your entered password must meet the following requirements:\n",
    "   * The password must be at least eight characters long.\n",
    "   * It must contain at least one uppercase letter.\n",
    "   * It must contain at least one lowercase letter.\n",
    "   * It must contain at least one numeric digit.\n",
    "   Your program should perform this validation."
   ]
  },
  {
   "cell_type": "code",
   "execution_count": 21,
   "id": "565ea976",
   "metadata": {},
   "outputs": [
    {
     "name": "stdin",
     "output_type": "stream",
     "text": [
      "Enter your password:  hello\n"
     ]
    },
    {
     "name": "stdout",
     "output_type": "stream",
     "text": [
      "Password is invalid. It must be at least 8 characters long, contain at least one uppercase letter, one lowercase letter, and one digit.\n"
     ]
    }
   ],
   "source": [
    "password = input(\"Enter your password: \")\n",
    "\n",
    "if len(password) >= 8 and any(c.isupper() for c in password) and any(c.islower() for c in password) and any(c.isdigit() for c in password):\n",
    "    print(\"Password is valid.\")\n",
    "else:\n",
    "    print(\"Password is invalid. It must be at least 8 characters long, contain at least one uppercase letter, one lowercase letter, and one digit.\")\n"
   ]
  },
  {
   "cell_type": "code",
   "execution_count": null,
   "id": "ad5d9b4a-a419-4e68-8ada-31da89cc0317",
   "metadata": {},
   "outputs": [],
   "source": []
  }
 ],
 "metadata": {
  "kernelspec": {
   "display_name": "Python 3 (ipykernel)",
   "language": "python",
   "name": "python3"
  },
  "language_info": {
   "codemirror_mode": {
    "name": "ipython",
    "version": 3
   },
   "file_extension": ".py",
   "mimetype": "text/x-python",
   "name": "python",
   "nbconvert_exporter": "python",
   "pygments_lexer": "ipython3",
   "version": "3.12.7"
  }
 },
 "nbformat": 4,
 "nbformat_minor": 5
}
