{
 "cells": [
  {
   "cell_type": "markdown",
   "id": "62579434-a953-485d-b206-b75f53fe2efe",
   "metadata": {},
   "source": [
    "### 1. Write a Python function to find the maximum of three numbers."
   ]
  },
  {
   "cell_type": "code",
   "execution_count": 3,
   "id": "0065cca3-3492-49ed-aaad-3577075d0125",
   "metadata": {},
   "outputs": [
    {
     "name": "stdout",
     "output_type": "stream",
     "text": [
      "The maximum number is: 25\n"
     ]
    }
   ],
   "source": [
    "def find_maximum(a, b, c):\n",
    "    if a >= b and a >= c:\n",
    "        return a\n",
    "    elif b >= a and b >= c:\n",
    "        return b\n",
    "    else:\n",
    "        return c\n",
    "        \n",
    "num1 = 10\n",
    "num2 = 25\n",
    "num3 = 15\n",
    "\n",
    "print(\"The maximum number is:\", find_maximum(num1, num2, num3))"
   ]
  },
  {
   "cell_type": "markdown",
   "id": "021073f0-6dc8-4339-848b-ff7536fae4e0",
   "metadata": {},
   "source": [
    "### 2. Write a Python function to sum all the numbers in a list.\n",
    "Sample List : (8, 2, 3, 0, 7)\n",
    "Expected Output : 20\n"
   ]
  },
  {
   "cell_type": "code",
   "execution_count": 8,
   "id": "1a37380a-c1eb-426d-8df7-79b95e0a589e",
   "metadata": {},
   "outputs": [
    {
     "name": "stdout",
     "output_type": "stream",
     "text": [
      "Sum of the list is: 20\n"
     ]
    }
   ],
   "source": [
    "def sum_list(b):\n",
    "    total = 0\n",
    "    for a in b:\n",
    "        total += a\n",
    "    return total\n",
    "\n",
    "sample_list = [8, 2, 3, 0, 7]\n",
    "print(\"Sum of the list is:\", sum_list(sample_list))"
   ]
  },
  {
   "cell_type": "markdown",
   "id": "3d39c437-4e77-4066-8aef-5cd532e6867c",
   "metadata": {},
   "source": [
    "### 3. Write a Python function to multiply all the numbers in a list.\n",
    "Sample List : (8, 2, 3, -1, 7)\n",
    "Expected Output : -336"
   ]
  },
  {
   "cell_type": "code",
   "execution_count": 27,
   "id": "2c3bf156-4752-40ca-b77e-6cfe85642979",
   "metadata": {},
   "outputs": [
    {
     "name": "stdout",
     "output_type": "stream",
     "text": [
      "Sum of the list is: -336\n"
     ]
    }
   ],
   "source": [
    "def multiply_list(numbers):\n",
    "    result = 1\n",
    "    for num in numbers:\n",
    "        result *= num\n",
    "    return result\n",
    "\n",
    "sample_list = [8,2,3,-1,7]\n",
    "print(\"multiplication of the list is: \",multiply_list(sample_list))"
   ]
  },
  {
   "cell_type": "markdown",
   "id": "91bc9856-17a8-450f-81d8-ad7b7985663b",
   "metadata": {},
   "source": [
    "### 4. Write a Python program to reverse a string.\n",
    "Sample String : \"1234abcd\"\n",
    "Expected Output : \"dcba4321\""
   ]
  },
  {
   "cell_type": "code",
   "execution_count": 30,
   "id": "f9ec5a19-a214-48a0-baa2-f1f463218b04",
   "metadata": {},
   "outputs": [
    {
     "name": "stdout",
     "output_type": "stream",
     "text": [
      "dcba4321\n"
     ]
    }
   ],
   "source": [
    "a='1234abcd'\n",
    "print(a[::-1])"
   ]
  },
  {
   "cell_type": "markdown",
   "id": "cc26a600-8178-46c5-807a-d109ef421c87",
   "metadata": {},
   "source": [
    "### 5. Write a Python function to calculate the factorial of a number (a non-negative\n",
    "integer). The function accepts the number as an argument."
   ]
  },
  {
   "cell_type": "code",
   "execution_count": 37,
   "id": "fc0c95dd-36b2-4599-822d-d12d2262b915",
   "metadata": {},
   "outputs": [
    {
     "name": "stdout",
     "output_type": "stream",
     "text": [
      "The factorial of 5 is:  120\n"
     ]
    }
   ],
   "source": [
    "def factorial(x):\n",
    "    if x==0 or x==1:\n",
    "        return 1\n",
    "    else:\n",
    "        return x * factorial(x-1)\n",
    "\n",
    "num = 5\n",
    "print(f\"The factorial of {num} is: \",factorial(num))"
   ]
  },
  {
   "cell_type": "markdown",
   "id": "c527e38c-40b6-4b96-a770-cce45bdfa803",
   "metadata": {},
   "source": [
    "### 6. Write a Python function to check whether a number falls within a given range."
   ]
  },
  {
   "cell_type": "code",
   "execution_count": 52,
   "id": "abd88dab-9159-4ed8-b857-e3b42abe03fd",
   "metadata": {},
   "outputs": [
    {
     "name": "stdout",
     "output_type": "stream",
     "text": [
      "Number does not lie within the range\n"
     ]
    }
   ],
   "source": [
    "def check_range(a):\n",
    "    if 30 <= a < 50:\n",
    "        return \"Number lies within the range\"\n",
    "    else:\n",
    "        return \"Number does not lie within the range\"\n",
    "\n",
    "num = check_range(20)\n",
    "print(num)"
   ]
  },
  {
   "cell_type": "markdown",
   "id": "1783ee4d-3b74-445e-b8d2-45ba66839e6d",
   "metadata": {},
   "source": [
    "### 7. Write a Python function that accepts a string and counts the number of upper\n",
    "and lower case letters.\n",
    "Sample String : 'The quick Brow Fox'\n",
    "Expected Output :\n",
    "No. of Upper case characters : 3\n",
    "No. of Lower case Characters : 12"
   ]
  },
  {
   "cell_type": "code",
   "execution_count": 64,
   "id": "666d7a8f-9c99-4802-8bb4-f6ac455fe2cb",
   "metadata": {},
   "outputs": [
    {
     "name": "stdout",
     "output_type": "stream",
     "text": [
      "No. of Upper case characters: 3\n",
      "No. of Lower case characters: 12\n"
     ]
    }
   ],
   "source": [
    "def count_case(s):\n",
    "    upper_count = 0\n",
    "    lower_count = 0\n",
    "\n",
    "    for char in s:\n",
    "        if char.isupper():\n",
    "            upper_count += 1\n",
    "        elif char.islower():\n",
    "            lower_count += 1\n",
    "            \n",
    "    print(\"No. of Upper case characters:\", upper_count)\n",
    "    print(\"No. of Lower case characters:\", lower_count)\n",
    "\n",
    "sample_string = \"The quick Brow Fox\"\n",
    "count_case(sample_string)"
   ]
  },
  {
   "cell_type": "markdown",
   "id": "bf01a230-6fb2-4482-854d-bc4c23a4371b",
   "metadata": {},
   "source": [
    "### 8. Write a Python function that takes a list and returns a new list with distinct\n",
    "elements from the first list.\n",
    "Sample List : [1,2,3,3,3,3,4,5]\n",
    "Unique List : [1, 2, 3, 4, 5]"
   ]
  },
  {
   "cell_type": "code",
   "execution_count": 67,
   "id": "7f8d82e5-4284-4f76-bd71-2106f374706b",
   "metadata": {},
   "outputs": [
    {
     "name": "stdout",
     "output_type": "stream",
     "text": [
      "[1, 2, 3, 4, 5]\n"
     ]
    }
   ],
   "source": [
    "def disticnt(d):\n",
    "    a = []\n",
    "    for x in d:\n",
    "        if x in a:\n",
    "            pass\n",
    "        else:\n",
    "            a.append(x)\n",
    "    return a\n",
    "\n",
    "j = [1,2,3,3,3,3,4,5]\n",
    "k = disticnt(j)\n",
    "print(k)\n"
   ]
  },
  {
   "cell_type": "markdown",
   "id": "53f10a32-da44-422d-a21e-4a5058c35373",
   "metadata": {},
   "source": [
    "### 9. Write a Python function that takes a number as a parameter and checks\n",
    "whether the number is prime or not.\n",
    "Note : A prime number (or a prime) is a natural number greater than 1 and that\n",
    "has no positive divisors other than 1 and itself."
   ]
  },
  {
   "cell_type": "code",
   "execution_count": 3,
   "id": "148568c0-d81f-4f90-b337-e2d31fcd2e15",
   "metadata": {},
   "outputs": [
    {
     "name": "stdout",
     "output_type": "stream",
     "text": [
      "Not Prime\n"
     ]
    }
   ],
   "source": [
    "def prime(n): \n",
    "    if n <= 1: \n",
    "        return \"Not Prime\" \n",
    "    for x in range(2, n):  # This usage is correct\n",
    "        if n % x == 0: \n",
    "            return \"Not Prime\"\n",
    "    return \"Prime\"\n",
    "\n",
    "a = prime(6) \n",
    "print(a)\n"
   ]
  },
  {
   "cell_type": "markdown",
   "id": "e9376d43-716d-4fc9-8dab-950e33c04fc4",
   "metadata": {},
   "source": [
    "### 10. Write a Python program to print the even numbers from a given list.\n",
    "Sample List : [1, 2, 3, 4, 5, 6, 7, 8, 9]\n",
    "Expected Result : [2, 4, 6, 8]"
   ]
  },
  {
   "cell_type": "code",
   "execution_count": 111,
   "id": "96d448a7-d4c5-49a9-9175-d913d2c03728",
   "metadata": {},
   "outputs": [
    {
     "name": "stdout",
     "output_type": "stream",
     "text": [
      "[2, 4, 6, 8]\n"
     ]
    }
   ],
   "source": [
    "def even(a):\n",
    "    b = []\n",
    "    for x in a:\n",
    "         if x%2==0:\n",
    "            b.append(x)\n",
    "    return b\n",
    "    \n",
    "c = [1,2,3,4,5,6,7,8,9]\n",
    "d = even(c)\n",
    "print(d)\n",
    "        \n",
    "            "
   ]
  },
  {
   "cell_type": "markdown",
   "id": "12191f8c-d992-4e83-b812-b594fc71fcd3",
   "metadata": {},
   "source": [
    "### 11. Write a Python function to check whether a number is \"Perfect\" or not.\n",
    "According to Wikipedia : In number theory, a perfect number is a positive integer\n",
    "that is equal to the sum of its proper positive divisors, that is, the sum of its\n",
    "positive divisors excluding the number itself (also known as its aliquot sum).\n",
    "Equivalently, a perfect number is a number that is half the sum of all of its\n",
    "positive divisors (including itself).\n",
    "Example : The first perfect number is 6, because 1, 2, and 3 are its proper positive\n",
    "divisors, and 1 + 2 + 3 = 6. Equivalently, the number 6 is equal to half the sum of\n",
    "all its positive divisors: ( 1 + 2 + 3 + 6 ) / 2 = 6. The next perfect number is 28 = 1 +\n",
    "2 + 4 + 7 + 14. This is followed by the perfect numbers 496 and 8128."
   ]
  },
  {
   "cell_type": "code",
   "execution_count": 1,
   "id": "2dd96c90-d6d6-4556-849b-a1416c16b384",
   "metadata": {},
   "outputs": [
    {
     "name": "stdout",
     "output_type": "stream",
     "text": [
      "Perfect\n"
     ]
    }
   ],
   "source": [
    "def perfect(n):\n",
    "    total = 0  \n",
    "    for i in range(1, n): \n",
    "        if n % i == 0:\n",
    "            total += i\n",
    "    if total == n:\n",
    "        return \"Perfect\"\n",
    "    else:\n",
    "        return \"Not Perfect\"\n",
    "\n",
    "w = perfect(8128)\n",
    "print(w)\n"
   ]
  },
  {
   "cell_type": "markdown",
   "id": "58a15864-f9bd-444d-a491-949f015547ed",
   "metadata": {},
   "source": [
    "### 12. Write a Python function that checks whether a passed string is a palindrome\n",
    "or not.\n",
    "Note: A palindrome is a word, phrase, or sequence that reads the same backward\n",
    "as forward, e.g., madam or nurses run."
   ]
  },
  {
   "cell_type": "code",
   "execution_count": 140,
   "id": "98f84950-ab7f-46ca-b2e6-94811f402e87",
   "metadata": {},
   "outputs": [
    {
     "name": "stdout",
     "output_type": "stream",
     "text": [
      "Is Palindrome\n"
     ]
    }
   ],
   "source": [
    "def palindrome(s):\n",
    "    s = s.replace(\" \", \"\").lower()\n",
    "    if s==s[::-1]:\n",
    "        return \"Is Palindrome\"\n",
    "    else:\n",
    "        return \"Not Palindrome\"\n",
    "g=\"nurses run\"\n",
    "h=palindrome(g)\n",
    "print(h)"
   ]
  },
  {
   "cell_type": "code",
   "execution_count": null,
   "id": "3acc9163-a179-4a18-bbb1-6f33bbf931d0",
   "metadata": {},
   "outputs": [],
   "source": []
  },
  {
   "cell_type": "code",
   "execution_count": null,
   "id": "45117b3d-e102-4588-81da-418acaf84a09",
   "metadata": {},
   "outputs": [],
   "source": []
  }
 ],
 "metadata": {
  "kernelspec": {
   "display_name": "Python 3 (ipykernel)",
   "language": "python",
   "name": "python3"
  },
  "language_info": {
   "codemirror_mode": {
    "name": "ipython",
    "version": 3
   },
   "file_extension": ".py",
   "mimetype": "text/x-python",
   "name": "python",
   "nbconvert_exporter": "python",
   "pygments_lexer": "ipython3",
   "version": "3.12.7"
  }
 },
 "nbformat": 4,
 "nbformat_minor": 5
}
