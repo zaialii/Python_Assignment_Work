{
 "cells": [
  {
   "cell_type": "markdown",
   "id": "91254fe2-93ec-457c-9896-dcfc35a0c100",
   "metadata": {},
   "source": [
    "### Write a program to check if a customer is eligible for a discount. If the total purchase is more than $100, apply a 10% discount and display the final price. Otherwise, display the total price as it is. "
   ]
  },
  {
   "cell_type": "code",
   "execution_count": 1,
   "id": "a73af28b-c537-4126-99a6-bceacbf451b1",
   "metadata": {},
   "outputs": [
    {
     "name": "stdin",
     "output_type": "stream",
     "text": [
      "Enter the total purchase amount: $ 20\n"
     ]
    },
    {
     "name": "stdout",
     "output_type": "stream",
     "text": [
      "No discount applied.\n",
      "Final price: $20.00\n"
     ]
    }
   ],
   "source": [
    "total_purchase = float(input(\"Enter the total purchase amount: $\"))\n",
    "\n",
    "if total_purchase > 100:\n",
    "    discount = total_purchase * 0.10\n",
    "    total_purchase -= discount\n",
    "    print(f\"Discount applied: ${discount:.2f}\")\n",
    "else:\n",
    "    print(\"No discount applied.\")\n",
    "\n",
    "print(f\"Final price: ${total_purchase:.2f}\")\n"
   ]
  },
  {
   "cell_type": "markdown",
   "id": "7b31b6c6-ef38-4f49-b040-c6691cde1ea0",
   "metadata": {},
   "source": [
    "### Calculate Bulk Discount If a customer buys more than 5 items, apply a 15% discount on the total price. Otherwise, no discount is applied. Display the total price. \n"
   ]
  },
  {
   "cell_type": "code",
   "execution_count": 3,
   "id": "c30aabf2-cc5b-49c3-a380-cefe3617cfd2",
   "metadata": {},
   "outputs": [
    {
     "name": "stdin",
     "output_type": "stream",
     "text": [
      "Enter the number of items:  3\n",
      "Enter the price per item: $ 40\n"
     ]
    },
    {
     "name": "stdout",
     "output_type": "stream",
     "text": [
      "No bulk discount.\n",
      "Final price: $120.00\n"
     ]
    }
   ],
   "source": [
    "items = int(input(\"Enter the number of items: \"))\n",
    "price = float(input(\"Enter the price per item: $\"))\n",
    "\n",
    "total = items * price\n",
    "\n",
    "if items > 5:\n",
    "    total *= 0.85  # Apply 15% discount\n",
    "    print(\"Bulk discount applied.\")\n",
    "else:\n",
    "    print(\"No bulk discount.\")\n",
    "\n",
    "print(f\"Final price: ${total:.2f}\")\n"
   ]
  },
  {
   "cell_type": "markdown",
   "id": "f27e4637-e252-482f-b45a-05db2a58e213",
   "metadata": {},
   "source": [
    "### Check if the customer is a member (is_member = True). Members get a 20% discount; non-members get a 5% discount. Calculate and print the discounted price. "
   ]
  },
  {
   "cell_type": "code",
   "execution_count": 5,
   "id": "a6560ed0-970a-4e4f-9e5f-7821ccb83693",
   "metadata": {},
   "outputs": [
    {
     "name": "stdin",
     "output_type": "stream",
     "text": [
      "Are you a member? (yes or no):  no\n",
      "Enter the total amount: $ 50\n"
     ]
    },
    {
     "name": "stdout",
     "output_type": "stream",
     "text": [
      "Non-member discount applied (5%).\n",
      "Final price: $47.50\n"
     ]
    }
   ],
   "source": [
    "member = input(\"Are you a member? (yes or no): \").strip().lower() == \"yes\"\n",
    "amount = float(input(\"Enter the total amount: $\"))\n",
    "\n",
    "if member:\n",
    "    amount *= 0.80  # 20% discount\n",
    "    print(\"Membership discount applied (20%).\")\n",
    "else:\n",
    "    amount *= 0.95  # 5% discount\n",
    "    print(\"Non-member discount applied (5%).\")\n",
    "\n",
    "print(f\"Final price: ${amount:.2f}\")\n"
   ]
  },
  {
   "cell_type": "markdown",
   "id": "07052c84-7310-45a9-8707-f5c59e7f23e9",
   "metadata": {},
   "source": [
    "### Seasonal Sale If today is a holiday (is_holiday =  True), apply a 25% discount; otherwise, apply a 10% discount. Calculate the price after discount. "
   ]
  },
  {
   "cell_type": "code",
   "execution_count": 7,
   "id": "de236bb7-b617-481a-b841-7988a7c34b62",
   "metadata": {},
   "outputs": [
    {
     "name": "stdin",
     "output_type": "stream",
     "text": [
      "Is today a holiday? (yes or no):  yes\n",
      "Enter the total amount: $ 20\n"
     ]
    },
    {
     "name": "stdout",
     "output_type": "stream",
     "text": [
      "Holiday discount applied (25%).\n",
      "Final price: $15.00\n"
     ]
    }
   ],
   "source": [
    "holiday = input(\"Is today a holiday? (yes or no): \").strip().lower() == \"yes\"\n",
    "amount = float(input(\"Enter the total amount: $\"))\n",
    "\n",
    "if holiday:\n",
    "    amount *= 0.75  # 25% discount\n",
    "    print(\"Holiday discount applied (25%).\")\n",
    "else:\n",
    "    amount *= 0.90  # 10% discount\n",
    "    print(\"Regular discount applied (10%).\")\n",
    "\n",
    "print(f\"Final price: ${amount:.2f}\")\n"
   ]
  },
  {
   "cell_type": "markdown",
   "id": "5fb13cd9-4d25-4a5e-9a4b-2bf40bf4e413",
   "metadata": {},
   "source": [
    "### Buy-One-Get-One-Free If a customer buys an even number of items, they get half of them for free. Otherwise, they pay for all. Calculate the number of items the customer has to pay for. "
   ]
  },
  {
   "cell_type": "code",
   "execution_count": 11,
   "id": "8552bba5-9dd9-4546-b1b2-ce6b74f0ebbd",
   "metadata": {},
   "outputs": [
    {
     "name": "stdin",
     "output_type": "stream",
     "text": [
      "Enter the number of items:  3\n"
     ]
    },
    {
     "name": "stdout",
     "output_type": "stream",
     "text": [
      "Odd items! Pay for 2.\n",
      "Items to pay for: 2\n"
     ]
    }
   ],
   "source": [
    "items = int(input(\"Enter the number of items: \"))\n",
    "\n",
    "if items % 2 == 0:\n",
    "    to_pay = items // 2  # Pay for half\n",
    "    print(f\"Even items! Pay for {to_pay}.\")\n",
    "else:\n",
    "    to_pay = (items // 2) + 1  # Pay for half + 1\n",
    "    print(f\"Odd items! Pay for {to_pay}.\")\n",
    "\n",
    "print(f\"Items to pay for: {to_pay}\")\n"
   ]
  },
  {
   "cell_type": "markdown",
   "id": "278953b3-3062-4e6f-a8b0-aa1bb638cc11",
   "metadata": {},
   "source": [
    "### Sales Tax If the price of an item is greater than $500, apply a luxury tax of 15%. Otherwise, apply a standard tax of 8%. Display the total price after tax. "
   ]
  },
  {
   "cell_type": "code",
   "execution_count": 13,
   "id": "77e54820-5d54-47db-91fb-3067abd50017",
   "metadata": {},
   "outputs": [
    {
     "name": "stdin",
     "output_type": "stream",
     "text": [
      "Enter the item price: $ 20\n"
     ]
    },
    {
     "name": "stdout",
     "output_type": "stream",
     "text": [
      "Standard tax (8%) applied.\n",
      "Tax: $1.60\n",
      "Total price: $21.60\n"
     ]
    }
   ],
   "source": [
    "price = float(input(\"Enter the item price: $\"))\n",
    "\n",
    "if price > 500:\n",
    "    tax = price * 0.15  # 15% tax\n",
    "    print(\"Luxury tax (15%) applied.\")\n",
    "else:\n",
    "    tax = price * 0.08  # 8% tax\n",
    "    print(\"Standard tax (8%) applied.\")\n",
    "\n",
    "total = price + tax\n",
    "\n",
    "print(f\"Tax: ${tax:.2f}\")\n",
    "print(f\"Total price: ${total:.2f}\")\n"
   ]
  },
  {
   "cell_type": "markdown",
   "id": "8f7a6a86-9505-4b95-8eb1-54cb1e637ed0",
   "metadata": {},
   "source": [
    "### If a person's annual income is above $50,000, they pay 20% tax. Otherwise, they pay 10%. Calculate and display the tax amount."
   ]
  },
  {
   "cell_type": "code",
   "execution_count": 15,
   "id": "4465aea4-b59a-4960-bcce-80f3d7c11c30",
   "metadata": {},
   "outputs": [
    {
     "name": "stdin",
     "output_type": "stream",
     "text": [
      "Enter your annual income: $ 50000\n"
     ]
    },
    {
     "name": "stdout",
     "output_type": "stream",
     "text": [
      "Tax rate: 10%.\n",
      "Tax amount: $5000.00\n"
     ]
    }
   ],
   "source": [
    "income = float(input(\"Enter your annual income: $\"))\n",
    "\n",
    "if income > 50000:\n",
    "    tax = income * 0.20  # 20% tax\n",
    "    print(\"Tax rate: 20%.\")\n",
    "else:\n",
    "    tax = income * 0.10  # 10% tax\n",
    "    print(\"Tax rate: 10%.\")\n",
    "\n",
    "print(f\"Tax amount: ${tax:.2f}\")\n"
   ]
  },
  {
   "cell_type": "markdown",
   "id": "4bfdd6ab-5e37-4e29-8833-af1a7cc59fbf",
   "metadata": {},
   "source": [
    "### Tax Bracket Write a program to categorize a person into tax brackets: Income < $30,000: \"Low Tax\" □ $30,000 ≤ Income < $100,000: \"Medium Tax\"☐ Income > $100,000: \"High Tax\" \n"
   ]
  },
  {
   "cell_type": "code",
   "execution_count": 17,
   "id": "61f64396-65ff-45e9-9fa5-f2e9fd44e848",
   "metadata": {},
   "outputs": [
    {
     "name": "stdin",
     "output_type": "stream",
     "text": [
      "Enter your annual income: $ 20000\n"
     ]
    },
    {
     "name": "stdout",
     "output_type": "stream",
     "text": [
      "Your tax bracket: Low Tax\n"
     ]
    }
   ],
   "source": [
    "income = float(input(\"Enter your annual income: $\"))\n",
    "\n",
    "if income < 30000:\n",
    "    bracket = \"Low Tax\"\n",
    "elif income < 100000:\n",
    "    bracket = \"Medium Tax\"\n",
    "else:\n",
    "    bracket = \"High Tax\"\n",
    "\n",
    "print(f\"Your tax bracket: {bracket}\")\n"
   ]
  },
  {
   "cell_type": "markdown",
   "id": "ef335739-7f68-4f58-9333-527dcf3e787d",
   "metadata": {},
   "source": [
    "### VAT Calculation If the item is marked as essential (is_essential  =  True), apply a  VAT of 5%. Otherwise, apply a VAT of 12%. Display the final price.  "
   ]
  },
  {
   "cell_type": "code",
   "execution_count": 19,
   "id": "edd627e5-4ec4-4bcf-8940-95451103fa08",
   "metadata": {},
   "outputs": [
    {
     "name": "stdin",
     "output_type": "stream",
     "text": [
      "Is the item essential? (yes or no):  yes\n",
      "Enter the price of the item: $ 20\n"
     ]
    },
    {
     "name": "stdout",
     "output_type": "stream",
     "text": [
      "Essential item. 5% VAT applied.\n",
      "VAT: $1.00\n",
      "Total price: $21.00\n"
     ]
    }
   ],
   "source": [
    "essential = input(\"Is the item essential? (yes or no): \").strip().lower() == \"yes\"\n",
    "price = float(input(\"Enter the price of the item: $\"))\n",
    "\n",
    "if essential:\n",
    "    vat = price * 0.05  # 5% VAT for essential items\n",
    "    print(\"Essential item. 5% VAT applied.\")\n",
    "else:\n",
    "    vat = price * 0.12  # 12% VAT for non-essential items\n",
    "    print(\"Non-essential item. 12% VAT applied.\")\n",
    "\n",
    "total = price + vat\n",
    "\n",
    "print(f\"VAT: ${vat:.2f}\")\n",
    "print(f\"Total price: ${total:.2f}\")\n"
   ]
  },
  {
   "cell_type": "markdown",
   "id": "15379f7f-a0de-4019-bd92-062e5f685273",
   "metadata": {},
   "source": [
    "### Tax-Free Day  If today is a tax-free day (tax_free price. Otherwise, add a 7% tax. "
   ]
  },
  {
   "cell_type": "code",
   "execution_count": 21,
   "id": "2b0d8958-1ed3-41d8-9d45-537dac6f395e",
   "metadata": {},
   "outputs": [
    {
     "name": "stdin",
     "output_type": "stream",
     "text": [
      "Is today a tax-free day? (yes or no):  no\n",
      "Enter the price of the item: $ 20\n"
     ]
    },
    {
     "name": "stdout",
     "output_type": "stream",
     "text": [
      "Tax applied (7%).\n",
      "Final price: $21.40\n"
     ]
    }
   ],
   "source": [
    "tax_free = input(\"Is today a tax-free day? (yes or no): \").strip().lower() == \"yes\"\n",
    "price = float(input(\"Enter the price of the item: $\"))\n",
    "\n",
    "if tax_free:\n",
    "    print(\"Tax-free day! No tax applied.\")\n",
    "    final_price = price  # No tax applied\n",
    "else:\n",
    "    tax = price * 0.07  # 7% tax\n",
    "    final_price = price + tax\n",
    "    print(\"Tax applied (7%).\")\n",
    "\n",
    "print(f\"Final price: ${final_price:.2f}\")\n"
   ]
  },
  {
   "cell_type": "markdown",
   "id": "a87e1e0b-a1a7-4ea5-975e-9897af653eb6",
   "metadata": {},
   "source": [
    "### Free Shipping  If the total purchase amount is more than 50 dollars, offer free shipping; otherwise, charge 5 dollars for shipping. Display the total amount including shipping."
   ]
  },
  {
   "cell_type": "code",
   "execution_count": 25,
   "id": "e641a400-2afd-4f26-a56e-17cae47a3c9e",
   "metadata": {},
   "outputs": [
    {
     "name": "stdin",
     "output_type": "stream",
     "text": [
      "Enter the total purchase amount: $ 55\n"
     ]
    },
    {
     "name": "stdout",
     "output_type": "stream",
     "text": [
      "You qualify for free shipping!\n",
      "Total amount including shipping: $55.00\n"
     ]
    }
   ],
   "source": [
    "purchase_amount = float(input(\"Enter the total purchase amount: $\"))\n",
    "\n",
    "if purchase_amount > 50:\n",
    "    shipping = 0  # Free shipping\n",
    "    print(\"You qualify for free shipping!\")\n",
    "else:\n",
    "    shipping = 5  # $5 shipping fee\n",
    "    print(\"Shipping charge of $5 applied.\")\n",
    "\n",
    "total_amount = purchase_amount + shipping\n",
    "\n",
    "print(f\"Total amount including shipping: ${total_amount:.2f}\")\n"
   ]
  },
  {
   "cell_type": "markdown",
   "id": "0e65a7a9-5da2-4dbb-91f3-e0eefa42db9a",
   "metadata": {},
   "source": [
    "### If a customer enters the correct discount code (DISCOUNT10), apply a 10% discount. Otherwise, charge the full amount. "
   ]
  },
  {
   "cell_type": "code",
   "execution_count": 27,
   "id": "bce85daa-097d-417d-983b-75ea63fbaaa2",
   "metadata": {},
   "outputs": [
    {
     "name": "stdin",
     "output_type": "stream",
     "text": [
      "Enter the total amount: $ 100\n",
      "Enter the discount code:  10\n"
     ]
    },
    {
     "name": "stdout",
     "output_type": "stream",
     "text": [
      "Invalid code. No discount applied.\n",
      "Final price: $100.00\n"
     ]
    }
   ],
   "source": [
    "price = float(input(\"Enter the total amount: $\"))\n",
    "code = input(\"Enter the discount code: \").strip()\n",
    "\n",
    "if code == \"DISCOUNT10\":\n",
    "    discount = price * 0.10  # 10% discount\n",
    "    final_price = price - discount\n",
    "    print(\"Valid code. 10% discount applied.\")\n",
    "else:\n",
    "    final_price = price\n",
    "    print(\"Invalid code. No discount applied.\")\n",
    "\n",
    "print(f\"Final price: ${final_price:.2f}\")\n"
   ]
  },
  {
   "cell_type": "markdown",
   "id": "c5350e74-aacd-430c-8c50-15f237ae20df",
   "metadata": {},
   "source": [
    "###  Tiered Discounts Apply discounts based on the total price: $0 $50: No discount. $50-$100: 10% discount. Over $100: 20% discount. \n"
   ]
  },
  {
   "cell_type": "code",
   "execution_count": 29,
   "id": "c632b563-6a28-4dbd-adc4-f2d6a74ab346",
   "metadata": {},
   "outputs": [
    {
     "name": "stdin",
     "output_type": "stream",
     "text": [
      "Enter the total amount: $ 100\n"
     ]
    },
    {
     "name": "stdout",
     "output_type": "stream",
     "text": [
      "10% discount applied.\n",
      "Discount: $10.00\n",
      "Final price: $90.00\n"
     ]
    }
   ],
   "source": [
    "price = float(input(\"Enter the total amount: $\"))\n",
    "\n",
    "if price > 100:\n",
    "    discount = price * 0.20  # 20% discount\n",
    "    print(\"20% discount applied.\")\n",
    "elif price >= 50:\n",
    "    discount = price * 0.10  # 10% discount\n",
    "    print(\"10% discount applied.\")\n",
    "else:\n",
    "    discount = 0  # No discount\n",
    "    print(\"No discount for purchases under $50.\")\n",
    "\n",
    "final_price = price - discount\n",
    "\n",
    "print(f\"Discount: ${discount:.2f}\")\n",
    "print(f\"Final price: ${final_price:.2f}\")\n"
   ]
  },
  {
   "cell_type": "markdown",
   "id": "9c21376b-afab-46ad-981e-0d92c19afad9",
   "metadata": {},
   "source": [
    "### Minimum Purchase Requirement If the total amount is less than 20 dollars, display a message: \"Minimum purchase of 20 dollars is required.\" Otherwise, display the total amount. "
   ]
  },
  {
   "cell_type": "code",
   "execution_count": 33,
   "id": "449db900-a0e9-4506-9ae7-608505d8232c",
   "metadata": {},
   "outputs": [
    {
     "name": "stdin",
     "output_type": "stream",
     "text": [
      "Enter the total amount: $ 14\n"
     ]
    },
    {
     "name": "stdout",
     "output_type": "stream",
     "text": [
      "Minimum purchase of $20 required.\n"
     ]
    }
   ],
   "source": [
    "amount = float(input(\"Enter the total amount: $\"))\n",
    "\n",
    "if amount < 20:\n",
    "    print(\"Minimum purchase of $20 required.\")\n",
    "else:\n",
    "    print(f\"Total amount: ${amount:.2f}\")\n"
   ]
  },
  {
   "cell_type": "markdown",
   "id": "694de5b0-3238-4d93-b6f6-5430b7e60d9b",
   "metadata": {},
   "source": [
    "### Loyalty Points If a customer is a loyal member (is_loyal True), they earn double loyalty points for their purchase. Otherwise, they earn standard points. \n"
   ]
  },
  {
   "cell_type": "code",
   "execution_count": 35,
   "id": "419f5002-2a69-4bc9-8ecf-b40ba6d548ab",
   "metadata": {},
   "outputs": [
    {
     "name": "stdin",
     "output_type": "stream",
     "text": [
      "Enter the total amount: $ 200\n",
      "Is the customer a loyal member? (yes or no):  yes\n"
     ]
    },
    {
     "name": "stdout",
     "output_type": "stream",
     "text": [
      "Double loyalty points for loyal members!\n",
      "Loyalty points: 400\n"
     ]
    }
   ],
   "source": [
    "amount = float(input(\"Enter the total amount: $\"))\n",
    "loyal = input(\"Is the customer a loyal member? (yes or no): \").strip().lower() == \"yes\"\n",
    "\n",
    "if loyal:\n",
    "    points = amount * 2  # Double points for loyal members\n",
    "    print(\"Double loyalty points for loyal members!\")\n",
    "else:\n",
    "    points = amount  # Standard points for non-loyal members\n",
    "    print(\"Standard loyalty points earned.\")\n",
    "\n",
    "print(f\"Loyalty points: {points:.0f}\")\n"
   ]
  },
  {
   "cell_type": "markdown",
   "id": "f2015346-5864-4750-8936-6cedc68d6f24",
   "metadata": {},
   "source": [
    "### Travel Discount If a person is traveling more than 500 miles, offer a 20% discount on ticket price. Otherwise, charge the full amount."
   ]
  },
  {
   "cell_type": "code",
   "execution_count": 37,
   "id": "b55e1198-1580-401f-9b83-1915816cb85d",
   "metadata": {},
   "outputs": [
    {
     "name": "stdin",
     "output_type": "stream",
     "text": [
      "Enter the distance traveled (miles):  20\n",
      "Enter the ticket price: $ 10\n"
     ]
    },
    {
     "name": "stdout",
     "output_type": "stream",
     "text": [
      "No discount for travel under 500 miles.\n",
      "Final price: $10.00\n"
     ]
    }
   ],
   "source": [
    "miles = float(input(\"Enter the distance traveled (miles): \"))\n",
    "price = float(input(\"Enter the ticket price: $\"))\n",
    "\n",
    "if miles > 500:\n",
    "    discount = price * 0.20  # 20% discount\n",
    "    final_price = price - discount\n",
    "    print(\"Traveling over 500 miles! 20% discount applied.\")\n",
    "    print(f\"Discount: ${discount:.2f}\")\n",
    "else:\n",
    "    final_price = price\n",
    "    print(\"No discount for travel under 500 miles.\")\n",
    "\n",
    "print(f\"Final price: ${final_price:.2f}\")\n"
   ]
  },
  {
   "cell_type": "markdown",
   "id": "0661a8de-3799-4614-b81b-1466933d649f",
   "metadata": {},
   "source": [
    "### Child or Senior Discount If a passenger is under 12 or over 60 years old, apply a 15% discount on the ticket price. Otherwise, charge the full price. \n"
   ]
  },
  {
   "cell_type": "code",
   "execution_count": 39,
   "id": "0cf73fb8-14ee-40d8-80fe-c132739849af",
   "metadata": {},
   "outputs": [
    {
     "name": "stdin",
     "output_type": "stream",
     "text": [
      "Enter the passenger's age:  20\n",
      "Enter the ticket price: $ 10\n"
     ]
    },
    {
     "name": "stdout",
     "output_type": "stream",
     "text": [
      "No discount applied.\n",
      "Final price: $10.00\n"
     ]
    }
   ],
   "source": [
    "age = int(input(\"Enter the passenger's age: \"))\n",
    "price = float(input(\"Enter the ticket price: $\"))\n",
    "\n",
    "if age < 12 or age > 60:\n",
    "    discount = price * 0.15  # 15% discount\n",
    "    final_price = price - discount\n",
    "    print(\"15% discount applied!\")\n",
    "    print(f\"Discount: ${discount:.2f}\")\n",
    "else:\n",
    "    final_price = price\n",
    "    print(\"No discount applied.\")\n",
    "\n",
    "print(f\"Final price: ${final_price:.2f}\")\n"
   ]
  },
  {
   "cell_type": "markdown",
   "id": "483b8899-387f-4d91-b7f1-1bcd4672a3d4",
   "metadata": {},
   "source": [
    "### Ticket Type Pricing  If the ticket is for a weekend (is_weekend = True), add a 10% surcharge. Otherwise, charge the standard price. "
   ]
  },
  {
   "cell_type": "code",
   "execution_count": 41,
   "id": "2e0e6ea8-5053-4ae4-bd85-5cff9d8a27f3",
   "metadata": {},
   "outputs": [
    {
     "name": "stdin",
     "output_type": "stream",
     "text": [
      "Is the ticket for a weekend? (yes or no):  no\n",
      "Enter the ticket price: $ 10\n"
     ]
    },
    {
     "name": "stdout",
     "output_type": "stream",
     "text": [
      "No surcharge for weekdays.\n",
      "Final price: $10.00\n"
     ]
    }
   ],
   "source": [
    "weekend = input(\"Is the ticket for a weekend? (yes or no): \").strip().lower() == \"yes\"\n",
    "price = float(input(\"Enter the ticket price: $\"))\n",
    "\n",
    "if weekend:\n",
    "    surcharge = price * 0.10  # 10% surcharge\n",
    "    final_price = price + surcharge\n",
    "    print(\"Weekend ticket! 10% surcharge applied.\")\n",
    "    print(f\"Surcharge: ${surcharge:.2f}\")\n",
    "else:\n",
    "    final_price = price\n",
    "    print(\"No surcharge for weekdays.\")\n",
    "\n",
    "print(f\"Final price: ${final_price:.2f}\")\n"
   ]
  },
  {
   "cell_type": "markdown",
   "id": "9ee02951-17ac-4bdb-8641-7a81dd2e4548",
   "metadata": {},
   "source": [
    "### Baggage Fee If the total baggage weight is over 20kg, charge $10 per extra kilogram. Otherwise, no extra fee. "
   ]
  },
  {
   "cell_type": "code",
   "execution_count": 43,
   "id": "59979d30-38dc-4283-9663-cc4a794577f4",
   "metadata": {},
   "outputs": [
    {
     "name": "stdin",
     "output_type": "stream",
     "text": [
      "Enter the total baggage weight (kg):  20\n"
     ]
    },
    {
     "name": "stdout",
     "output_type": "stream",
     "text": [
      "No extra fee for baggage within the weight limit.\n",
      "Total baggage fee: $0.00\n"
     ]
    }
   ],
   "source": [
    "weight = float(input(\"Enter the total baggage weight (kg): \"))\n",
    "\n",
    "if weight > 20:\n",
    "    extra_weight = weight - 20  # Extra weight\n",
    "    fee = extra_weight * 10  # $10 per extra kg\n",
    "    print(f\"Overweight by {extra_weight:.2f} kg. Extra fee: ${fee:.2f}\")\n",
    "else:\n",
    "    fee = 0\n",
    "    print(\"No extra fee for baggage within the weight limit.\")\n",
    "\n",
    "print(f\"Total baggage fee: ${fee:.2f}\")\n"
   ]
  },
  {
   "cell_type": "markdown",
   "id": "96442f97-0b8a-4613-a189-1df7f363c44e",
   "metadata": {},
   "source": [
    "### Early Bird Discount If a ticket is booked more than 30 days in advance, apply a 10% discount. Otherwise, charge the full price."
   ]
  },
  {
   "cell_type": "code",
   "execution_count": 47,
   "id": "36bb50fd-a54a-4392-a36b-68669543c7fb",
   "metadata": {},
   "outputs": [
    {
     "name": "stdin",
     "output_type": "stream",
     "text": [
      "Enter how many days in advance the ticket is booked:  20\n",
      "Enter the ticket price: $ 10\n"
     ]
    },
    {
     "name": "stdout",
     "output_type": "stream",
     "text": [
      "No Early Bird Discount applied.\n",
      "Final price: $10.00\n"
     ]
    }
   ],
   "source": [
    "days = int(input(\"Enter how many days in advance the ticket is booked: \"))\n",
    "price = float(input(\"Enter the ticket price: $\"))\n",
    "\n",
    "if days > 30:\n",
    "    discount = price * 0.10  # 10% discount\n",
    "    final_price = price - discount\n",
    "    print(\"Early Bird Discount applied! 10% off.\")\n",
    "    print(f\"Discount: ${discount:.2f}\")\n",
    "else:\n",
    "    final_price = price\n",
    "    print(\"No Early Bird Discount applied.\")\n",
    "\n",
    "print(f\"Final price: ${final_price:.2f}\")\n"
   ]
  },
  {
   "cell_type": "markdown",
   "id": "2015d0fd-0db6-4b70-9a36-b4833f44d3d6",
   "metadata": {},
   "source": [
    "### Pass or Fail If a student scores 40 or more, print \"Pass\". Otherwise, print \"Fail\". "
   ]
  },
  {
   "cell_type": "code",
   "execution_count": 49,
   "id": "f224b7a9-6d1a-4049-a957-606897f222df",
   "metadata": {},
   "outputs": [
    {
     "name": "stdin",
     "output_type": "stream",
     "text": [
      "Enter the student's score:  20\n"
     ]
    },
    {
     "name": "stdout",
     "output_type": "stream",
     "text": [
      "Fail\n"
     ]
    }
   ],
   "source": [
    "marks = int(input(\"Enter the student's score: \"))\n",
    "\n",
    "if marks >= 40:\n",
    "    print(\"Pass\")\n",
    "else:\n",
    "    print(\"Fail\")\n"
   ]
  },
  {
   "cell_type": "markdown",
   "id": "c18fc269-29cb-4856-9765-ebd86a4d3aa2",
   "metadata": {},
   "source": [
    "### Grade Assignment Based on a student's score, assign grades: 90 and above: \"A\" □ 75–89: \"B\" ☐ 50–74: \"C\" □ Below 50: \"F\" \n",
    "\n"
   ]
  },
  {
   "cell_type": "code",
   "execution_count": 51,
   "id": "2dd4402c-4d3e-4741-9b51-07e539dbf05b",
   "metadata": {},
   "outputs": [
    {
     "name": "stdin",
     "output_type": "stream",
     "text": [
      "Enter the student's score:  20\n"
     ]
    },
    {
     "name": "stdout",
     "output_type": "stream",
     "text": [
      "The student's grade is: F\n"
     ]
    }
   ],
   "source": [
    "marks = int(input(\"Enter the student's score: \"))\n",
    "\n",
    "if marks >= 90:\n",
    "    grade = \"A\"\n",
    "elif 75 <= marks < 90:\n",
    "    grade = \"B\"\n",
    "elif 50 <= marks < 75:\n",
    "    grade = \"C\"\n",
    "else:\n",
    "    grade = \"F\"\n",
    "\n",
    "print(f\"The student's grade is: {grade}\")\n"
   ]
  },
  {
   "cell_type": "markdown",
   "id": "2a712e36-00a7-4b97-8760-bafb27c3edcf",
   "metadata": {},
   "source": [
    "### If a student completes all assignments, add 5 bonus marks to their score. Otherwise, no bonus marks. "
   ]
  },
  {
   "cell_type": "code",
   "execution_count": 53,
   "id": "9eeaab7d-74c5-4b9c-bed7-165375f443e9",
   "metadata": {},
   "outputs": [
    {
     "name": "stdin",
     "output_type": "stream",
     "text": [
      "Enter the student's score:  50\n",
      "Completed all assignments? (yes or no):  yes\n"
     ]
    },
    {
     "name": "stdout",
     "output_type": "stream",
     "text": [
      "Bonus marks added for assignment completion!\n",
      "Final score: 55\n"
     ]
    }
   ],
   "source": [
    "marks = int(input(\"Enter the student's score: \"))\n",
    "assignments_completed = input(\"Completed all assignments? (yes or no): \").strip().lower()\n",
    "\n",
    "if assignments_completed == \"yes\":\n",
    "    marks += 5  # Add 5 bonus marks\n",
    "    print(\"Bonus marks added for assignment completion!\")\n",
    "else:\n",
    "    print(\"No bonus marks added.\")\n",
    "\n",
    "print(f\"Final score: {marks}\")\n"
   ]
  },
  {
   "cell_type": "markdown",
   "id": "80e35c4c-5af5-4b51-a64d-78d6155a0902",
   "metadata": {},
   "source": [
    "### Attendance Eligibility  If a student's attendance is 75% or more, they are eligible to take the exam. Otherwise, they are not.  "
   ]
  },
  {
   "cell_type": "code",
   "execution_count": 55,
   "id": "b4bb67ac-2e08-402d-9380-96f9b734404d",
   "metadata": {},
   "outputs": [
    {
     "name": "stdin",
     "output_type": "stream",
     "text": [
      "Enter the student's attendance percentage:  80\n"
     ]
    },
    {
     "name": "stdout",
     "output_type": "stream",
     "text": [
      "Eligible to take the exam.\n"
     ]
    }
   ],
   "source": [
    "attendance_percentage = float(input(\"Enter the student's attendance percentage: \"))\n",
    "\n",
    "if attendance_percentage >= 75:\n",
    "    print(\"Eligible to take the exam.\")\n",
    "else:\n",
    "    print(\"Not eligible to take the exam.\")\n"
   ]
  },
  {
   "cell_type": "markdown",
   "id": "4ae00d97-0e55-45a7-8356-03589f438b9d",
   "metadata": {},
   "source": [
    "### Scholarship Eligibility If a student's grade is \"A\" and their annual family income is below $30,000, they are eligible for a scholarship. Otherwise, they are not.  "
   ]
  },
  {
   "cell_type": "code",
   "execution_count": 57,
   "id": "5ef9fe98-3d5c-44f2-923d-11bbe0197f4b",
   "metadata": {},
   "outputs": [
    {
     "name": "stdin",
     "output_type": "stream",
     "text": [
      "Enter the student's grade (A, B, C, etc.):  A\n",
      "Enter the annual family income: $ 40000\n"
     ]
    },
    {
     "name": "stdout",
     "output_type": "stream",
     "text": [
      "Not eligible for scholarship.\n"
     ]
    }
   ],
   "source": [
    "student_grade = input(\"Enter the student's grade (A, B, C, etc.): \").strip().upper()\n",
    "income = float(input(\"Enter the annual family income: $\"))\n",
    "\n",
    "if student_grade == \"A\" and income < 30000:\n",
    "    print(\"Eligible for scholarship.\")\n",
    "else:\n",
    "    print(\"Not eligible for scholarship.\")\n"
   ]
  },
  {
   "cell_type": "code",
   "execution_count": null,
   "id": "a69caee5-72c5-46c0-9966-dc4b318a3dfe",
   "metadata": {},
   "outputs": [],
   "source": []
  }
 ],
 "metadata": {
  "kernelspec": {
   "display_name": "Python 3 (ipykernel)",
   "language": "python",
   "name": "python3"
  },
  "language_info": {
   "codemirror_mode": {
    "name": "ipython",
    "version": 3
   },
   "file_extension": ".py",
   "mimetype": "text/x-python",
   "name": "python",
   "nbconvert_exporter": "python",
   "pygments_lexer": "ipython3",
   "version": "3.12.7"
  }
 },
 "nbformat": 4,
 "nbformat_minor": 5
}
